{
  "nbformat": 4,
  "nbformat_minor": 0,
  "metadata": {
    "colab": {
      "name": "JPMCQuant_ML_Baasit_BITS_Hyderabad_F2016AAPS0209H.ipynb",
      "provenance": [],
      "machine_shape": "hm",
      "include_colab_link": true
    },
    "kernelspec": {
      "name": "python3",
      "display_name": "Python 3"
    }
  },
  "cells": [
    {
      "cell_type": "markdown",
      "metadata": {
        "id": "view-in-github",
        "colab_type": "text"
      },
      "source": [
        "<a href=\"https://colab.research.google.com/github/baasitsharief/Dual_Branch_allotment/blob/master/JPMCQuant_ML_Baasit_BITS_Hyderabad_F2016AAPS0209H.ipynb\" target=\"_parent\"><img src=\"https://colab.research.google.com/assets/colab-badge.svg\" alt=\"Open In Colab\"/></a>"
      ]
    },
    {
      "cell_type": "code",
      "metadata": {
        "id": "w1oliHlu6zws",
        "colab_type": "code",
        "colab": {}
      },
      "source": [
        "import pandas as pd\n",
        "import xgboost as xgb\n",
        "import lightgbm as lgb\n",
        "from scipy.stats import skew\n",
        "from scipy import stats\n",
        "from scipy.stats import norm\n",
        "from sklearn.linear_model import LinearRegression,LassoCV, Ridge, LassoLarsCV,ElasticNetCV\n",
        "from sklearn.model_selection import GridSearchCV, cross_val_score, learning_curve\n",
        "from sklearn.ensemble import RandomForestRegressor, AdaBoostRegressor, ExtraTreesRegressor, GradientBoostingRegressor\n",
        "from sklearn.preprocessing import StandardScaler, Normalizer, RobustScaler\n",
        "import matplotlib.pyplot as plt\n",
        "\n",
        "testing_data_file = \"https://mettl-arq.s3-ap-southeast-1.amazonaws.com/questions/jp-morgan/housing/housing_test.csv\"\n",
        "testing_data = pd.read_csv(testing_data_file)"
      ],
      "execution_count": 0,
      "outputs": []
    },
    {
      "cell_type": "code",
      "metadata": {
        "id": "LlEA4Q8i83WT",
        "colab_type": "code",
        "colab": {
          "base_uri": "https://localhost:8080/",
          "height": 306
        },
        "outputId": "b600ed30-ba38-411e-f4a9-d21c6b9681c7"
      },
      "source": [
        "testing_data.head()"
      ],
      "execution_count": 2,
      "outputs": [
        {
          "output_type": "execute_result",
          "data": {
            "text/html": [
              "<div>\n",
              "<style scoped>\n",
              "    .dataframe tbody tr th:only-of-type {\n",
              "        vertical-align: middle;\n",
              "    }\n",
              "\n",
              "    .dataframe tbody tr th {\n",
              "        vertical-align: top;\n",
              "    }\n",
              "\n",
              "    .dataframe thead th {\n",
              "        text-align: right;\n",
              "    }\n",
              "</style>\n",
              "<table border=\"1\" class=\"dataframe\">\n",
              "  <thead>\n",
              "    <tr style=\"text-align: right;\">\n",
              "      <th></th>\n",
              "      <th>TID</th>\n",
              "      <th>Date</th>\n",
              "      <th>Property Type</th>\n",
              "      <th>OldvNew</th>\n",
              "      <th>Duration</th>\n",
              "      <th>AddressLine1</th>\n",
              "      <th>AddressLine2</th>\n",
              "      <th>Street</th>\n",
              "      <th>Locality</th>\n",
              "      <th>Town</th>\n",
              "      <th>Taluka</th>\n",
              "      <th>District</th>\n",
              "      <th>Postcode</th>\n",
              "      <th>Price Category</th>\n",
              "    </tr>\n",
              "  </thead>\n",
              "  <tbody>\n",
              "    <tr>\n",
              "      <th>0</th>\n",
              "      <td>1226697</td>\n",
              "      <td>2019-04-01</td>\n",
              "      <td>F</td>\n",
              "      <td>N</td>\n",
              "      <td>L</td>\n",
              "      <td>UXCEBQ SYWKM</td>\n",
              "      <td>56</td>\n",
              "      <td>ZYHWKL KYUF</td>\n",
              "      <td>ZYHWKL XULFX</td>\n",
              "      <td>NREMYL GBQLBX</td>\n",
              "      <td>SBLMKUE HBFVYKFXORKB</td>\n",
              "      <td>SBLMKUE HBFVYKFXORKB</td>\n",
              "      <td>NG09 2CU</td>\n",
              "      <td>A</td>\n",
              "    </tr>\n",
              "    <tr>\n",
              "      <th>1</th>\n",
              "      <td>1226784</td>\n",
              "      <td>2019-04-01</td>\n",
              "      <td>S</td>\n",
              "      <td>N</td>\n",
              "      <td>F</td>\n",
              "      <td>XOYMVYKF</td>\n",
              "      <td>0</td>\n",
              "      <td>XBEXBQ KYUF</td>\n",
              "      <td>XRFEBXOUN</td>\n",
              "      <td>SORSOBXMBK</td>\n",
              "      <td>SORSOBXMBK</td>\n",
              "      <td>ZBXM XWXXBA</td>\n",
              "      <td>CY57 9KF</td>\n",
              "      <td>A</td>\n",
              "    </tr>\n",
              "    <tr>\n",
              "      <th>2</th>\n",
              "      <td>1226816</td>\n",
              "      <td>2019-04-01</td>\n",
              "      <td>F</td>\n",
              "      <td>N</td>\n",
              "      <td>L</td>\n",
              "      <td>JKUSBZBEE SYWKM, 0457</td>\n",
              "      <td>UCUKMNBLM 56</td>\n",
              "      <td>XMKUMVYKF KYUF</td>\n",
              "      <td>OUEE JKBBL</td>\n",
              "      <td>HRKNRLJOUN</td>\n",
              "      <td>HRKNRLJOUN</td>\n",
              "      <td>ZBXM NRFEULFX</td>\n",
              "      <td>H52 8BM</td>\n",
              "      <td>A</td>\n",
              "    </tr>\n",
              "    <tr>\n",
              "      <th>3</th>\n",
              "      <td>1226838</td>\n",
              "      <td>2019-04-01</td>\n",
              "      <td>F</td>\n",
              "      <td>Y</td>\n",
              "      <td>L</td>\n",
              "      <td>MOB SOYSYEUMB DWUKMBK</td>\n",
              "      <td>51 KRPBK OYWXB</td>\n",
              "      <td>MKUTBSMWX ZUQ</td>\n",
              "      <td>GBQLXOUN</td>\n",
              "      <td>HKRXMYE</td>\n",
              "      <td>HUMO ULF LYKMO BUXM XYNBKXBM</td>\n",
              "      <td>HUMO ULF LYKMO BUXM XYNBKXBM</td>\n",
              "      <td>HX60 5JJ</td>\n",
              "      <td>A</td>\n",
              "    </tr>\n",
              "    <tr>\n",
              "      <th>4</th>\n",
              "      <td>1226845</td>\n",
              "      <td>2019-04-01</td>\n",
              "      <td>F</td>\n",
              "      <td>N</td>\n",
              "      <td>L</td>\n",
              "      <td>NUGBCBUSB NULXRYLX</td>\n",
              "      <td>VEUM 500</td>\n",
              "      <td>NUGBCBUSB UPBLWB</td>\n",
              "      <td>ORJOJUMB</td>\n",
              "      <td>EYLFYL</td>\n",
              "      <td>SUNFBL</td>\n",
              "      <td>JKBUMBK EYLFYL</td>\n",
              "      <td>L3 3BM</td>\n",
              "      <td>A</td>\n",
              "    </tr>\n",
              "  </tbody>\n",
              "</table>\n",
              "</div>"
            ],
            "text/plain": [
              "       TID        Date  ...  Postcode Price Category\n",
              "0  1226697  2019-04-01  ...  NG09 2CU              A\n",
              "1  1226784  2019-04-01  ...  CY57 9KF              A\n",
              "2  1226816  2019-04-01  ...   H52 8BM              A\n",
              "3  1226838  2019-04-01  ...  HX60 5JJ              A\n",
              "4  1226845  2019-04-01  ...    L3 3BM              A\n",
              "\n",
              "[5 rows x 14 columns]"
            ]
          },
          "metadata": {
            "tags": []
          },
          "execution_count": 2
        }
      ]
    },
    {
      "cell_type": "code",
      "metadata": {
        "id": "nsvfauNl89UM",
        "colab_type": "code",
        "colab": {}
      },
      "source": [
        "training_data_file = \"https://mettl-arq.s3-ap-southeast-1.amazonaws.com/questions/jp-morgan/housing/housing_train.csv\"\n",
        "train_orig = pd.read_csv(training_data_file)"
      ],
      "execution_count": 0,
      "outputs": []
    },
    {
      "cell_type": "code",
      "metadata": {
        "id": "p0mcpMcM9wMD",
        "colab_type": "code",
        "colab": {
          "base_uri": "https://localhost:8080/",
          "height": 306
        },
        "outputId": "d68a2813-55bb-4004-ae37-19d06402a61b"
      },
      "source": [
        "train_orig.head()"
      ],
      "execution_count": 4,
      "outputs": [
        {
          "output_type": "execute_result",
          "data": {
            "text/html": [
              "<div>\n",
              "<style scoped>\n",
              "    .dataframe tbody tr th:only-of-type {\n",
              "        vertical-align: middle;\n",
              "    }\n",
              "\n",
              "    .dataframe tbody tr th {\n",
              "        vertical-align: top;\n",
              "    }\n",
              "\n",
              "    .dataframe thead th {\n",
              "        text-align: right;\n",
              "    }\n",
              "</style>\n",
              "<table border=\"1\" class=\"dataframe\">\n",
              "  <thead>\n",
              "    <tr style=\"text-align: right;\">\n",
              "      <th></th>\n",
              "      <th>TID</th>\n",
              "      <th>Date</th>\n",
              "      <th>Property Type</th>\n",
              "      <th>OldvNew</th>\n",
              "      <th>Duration</th>\n",
              "      <th>AddressLine1</th>\n",
              "      <th>AddressLine2</th>\n",
              "      <th>Street</th>\n",
              "      <th>Locality</th>\n",
              "      <th>Town</th>\n",
              "      <th>Taluka</th>\n",
              "      <th>District</th>\n",
              "      <th>Postcode</th>\n",
              "      <th>Price</th>\n",
              "      <th>Price Category</th>\n",
              "    </tr>\n",
              "  </thead>\n",
              "  <tbody>\n",
              "    <tr>\n",
              "      <th>0</th>\n",
              "      <td>1000</td>\n",
              "      <td>2018-01-01</td>\n",
              "      <td>F</td>\n",
              "      <td>N</td>\n",
              "      <td>L</td>\n",
              "      <td>9</td>\n",
              "      <td>NaN</td>\n",
              "      <td>XOUGBXCBUKB NBZX</td>\n",
              "      <td>NaN</td>\n",
              "      <td>ERLSYEL</td>\n",
              "      <td>ERLSYEL</td>\n",
              "      <td>ERLSYELXORKB</td>\n",
              "      <td>EL4 2BO</td>\n",
              "      <td>80.0</td>\n",
              "      <td>B</td>\n",
              "    </tr>\n",
              "    <tr>\n",
              "      <th>1</th>\n",
              "      <td>1001</td>\n",
              "      <td>2018-01-01</td>\n",
              "      <td>T</td>\n",
              "      <td>Y</td>\n",
              "      <td>F</td>\n",
              "      <td>02</td>\n",
              "      <td>NaN</td>\n",
              "      <td>OYYG ZUQ</td>\n",
              "      <td>NaN</td>\n",
              "      <td>NURFXMYLB</td>\n",
              "      <td>NURFXMYLB</td>\n",
              "      <td>GBLM</td>\n",
              "      <td>NB09 6VZ</td>\n",
              "      <td>218.5</td>\n",
              "      <td>A</td>\n",
              "    </tr>\n",
              "    <tr>\n",
              "      <th>2</th>\n",
              "      <td>1002</td>\n",
              "      <td>2018-01-01</td>\n",
              "      <td>D</td>\n",
              "      <td>N</td>\n",
              "      <td>F</td>\n",
              "      <td>32</td>\n",
              "      <td>NaN</td>\n",
              "      <td>XYNBKX CUKG UPBLWB</td>\n",
              "      <td>NaN</td>\n",
              "      <td>NUEPBKL</td>\n",
              "      <td>NUEPBKL OREEX</td>\n",
              "      <td>ZYKSBXMBKXORKB</td>\n",
              "      <td>ZK01 0XF</td>\n",
              "      <td>250.0</td>\n",
              "      <td>A</td>\n",
              "    </tr>\n",
              "    <tr>\n",
              "      <th>3</th>\n",
              "      <td>1003</td>\n",
              "      <td>2018-01-01</td>\n",
              "      <td>O</td>\n",
              "      <td>N</td>\n",
              "      <td>F</td>\n",
              "      <td>0</td>\n",
              "      <td>NaN</td>\n",
              "      <td>OUMOUZUQ SEYXB</td>\n",
              "      <td>NaN</td>\n",
              "      <td>EBRSBXMBK</td>\n",
              "      <td>EBRSBXMBK</td>\n",
              "      <td>EBRSBXMBK</td>\n",
              "      <td>EB1 3HI</td>\n",
              "      <td>6050.0</td>\n",
              "      <td>B</td>\n",
              "    </tr>\n",
              "    <tr>\n",
              "      <th>4</th>\n",
              "      <td>1004</td>\n",
              "      <td>2018-01-01</td>\n",
              "      <td>T</td>\n",
              "      <td>N</td>\n",
              "      <td>F</td>\n",
              "      <td>14</td>\n",
              "      <td>NaN</td>\n",
              "      <td>MBNBKURKB KYUF</td>\n",
              "      <td>NaN</td>\n",
              "      <td>CEQNYWMO</td>\n",
              "      <td>SRMQ YV CEQNYWMO</td>\n",
              "      <td>SRMQ YV CEQNYWMO</td>\n",
              "      <td>CE4 6WU</td>\n",
              "      <td>182.0</td>\n",
              "      <td>A</td>\n",
              "    </tr>\n",
              "  </tbody>\n",
              "</table>\n",
              "</div>"
            ],
            "text/plain": [
              "    TID        Date Property Type  ...  Postcode   Price Price Category\n",
              "0  1000  2018-01-01             F  ...   EL4 2BO    80.0              B\n",
              "1  1001  2018-01-01             T  ...  NB09 6VZ   218.5              A\n",
              "2  1002  2018-01-01             D  ...  ZK01 0XF   250.0              A\n",
              "3  1003  2018-01-01             O  ...   EB1 3HI  6050.0              B\n",
              "4  1004  2018-01-01             T  ...   CE4 6WU   182.0              A\n",
              "\n",
              "[5 rows x 15 columns]"
            ]
          },
          "metadata": {
            "tags": []
          },
          "execution_count": 4
        }
      ]
    },
    {
      "cell_type": "markdown",
      "metadata": {
        "id": "osPsFXJx-GrU",
        "colab_type": "text"
      },
      "source": [
        "# Visualizing the training dataset and cleaning the Dateset"
      ]
    },
    {
      "cell_type": "code",
      "metadata": {
        "id": "zvRFwK7rVwME",
        "colab_type": "code",
        "colab": {
          "base_uri": "https://localhost:8080/",
          "height": 658
        },
        "outputId": "8b13702b-cd18-4a6d-9cf8-6d35a306dabc"
      },
      "source": [
        "import seaborn as sns\n",
        "\n",
        "sns.distplot(train_orig['Price'] , fit=norm);\n",
        "\n",
        "# Get the fitted parameters used by the function\n",
        "(mu, sigma) = norm.fit(train_orig['Price'])\n",
        "print( '\\n mu = {:.2f} and sigma = {:.2f}\\n'.format(mu, sigma))\n",
        "plt.legend(['Normal dist. ($\\mu=$ {:.2f} and $\\sigma=$ {:.2f} )'.format(mu, sigma)],\n",
        "            loc='best')\n",
        "plt.ylabel('Frequency')\n",
        "plt.title('Price distribution')\n",
        "\n",
        "fig = plt.figure()\n",
        "res = stats.probplot(train_orig['Price'], plot=plt)\n",
        "plt.show()\n",
        "\n",
        "print(\"Skewness: %f\" % train_orig['Price'].skew())\n",
        "print(\"Kurtosis: %f\" % train_orig['Price'].kurt())"
      ],
      "execution_count": 5,
      "outputs": [
        {
          "output_type": "stream",
          "text": [
            "\n",
            " mu = 349.76 and sigma = 1829.58\n",
            "\n"
          ],
          "name": "stdout"
        },
        {
          "output_type": "display_data",
          "data": {
            "image/png": "[encoded data removed]",
            "text/plain": [
              "<Figure size 432x288 with 1 Axes>"
            ]
          },
          "metadata": {
            "tags": []
          }
        },
        {
          "output_type": "display_data",
          "data": {
            "image/png": "[encoded data removed]",
            "text/plain": [
              "<Figure size 432x288 with 1 Axes>"
            ]
          },
          "metadata": {
            "tags": []
          }
        },
        {
          "output_type": "stream",
          "text": [
            "Skewness: 114.925001\n",
            "Kurtosis: 22639.451053\n"
          ],
          "name": "stdout"
        }
      ]
    },
    {
      "cell_type": "code",
      "metadata": {
        "id": "gAOD48B690WM",
        "colab_type": "code",
        "colab": {
          "base_uri": "https://localhost:8080/",
          "height": 349
        },
        "outputId": "42bc0f5a-cd97-4cc2-abae-39379f6173fd"
      },
      "source": [
        "sns.heatmap(train_orig.isnull(), cmap = 'Blues')"
      ],
      "execution_count": 6,
      "outputs": [
        {
          "output_type": "execute_result",
          "data": {
            "text/plain": [
              "<matplotlib.axes._subplots.AxesSubplot at 0x7efd868ecdd8>"
            ]
          },
          "metadata": {
            "tags": []
          },
          "execution_count": 6
        },
        {
          "output_type": "display_data",
          "data": {
            "image/png": "[encoded data removed]",
            "text/plain": [
              "<Figure size 432x288 with 2 Axes>"
            ]
          },
          "metadata": {
            "tags": []
          }
        }
      ]
    },
    {
      "cell_type": "markdown",
      "metadata": {
        "id": "wdioDpRV3zCx",
        "colab_type": "text"
      },
      "source": [
        "Since transaction ID doesn't really matter in price of houses, also Address line 2 and Locality has a lot of null elements so I dropped it off."
      ]
    },
    {
      "cell_type": "code",
      "metadata": {
        "id": "GBm427Z2-RXj",
        "colab_type": "code",
        "colab": {
          "base_uri": "https://localhost:8080/",
          "height": 204
        },
        "outputId": "7071d8a3-b22f-45b5-ef0e-95fb3f9930d0"
      },
      "source": [
        "train = train_orig.drop(['AddressLine2','Locality', 'TID'], axis = 1)\n",
        "train.head()"
      ],
      "execution_count": 7,
      "outputs": [
        {
          "output_type": "execute_result",
          "data": {
            "text/html": [
              "<div>\n",
              "<style scoped>\n",
              "    .dataframe tbody tr th:only-of-type {\n",
              "        vertical-align: middle;\n",
              "    }\n",
              "\n",
              "    .dataframe tbody tr th {\n",
              "        vertical-align: top;\n",
              "    }\n",
              "\n",
              "    .dataframe thead th {\n",
              "        text-align: right;\n",
              "    }\n",
              "</style>\n",
              "<table border=\"1\" class=\"dataframe\">\n",
              "  <thead>\n",
              "    <tr style=\"text-align: right;\">\n",
              "      <th></th>\n",
              "      <th>Date</th>\n",
              "      <th>Property Type</th>\n",
              "      <th>OldvNew</th>\n",
              "      <th>Duration</th>\n",
              "      <th>AddressLine1</th>\n",
              "      <th>Street</th>\n",
              "      <th>Town</th>\n",
              "      <th>Taluka</th>\n",
              "      <th>District</th>\n",
              "      <th>Postcode</th>\n",
              "      <th>Price</th>\n",
              "      <th>Price Category</th>\n",
              "    </tr>\n",
              "  </thead>\n",
              "  <tbody>\n",
              "    <tr>\n",
              "      <th>0</th>\n",
              "      <td>2018-01-01</td>\n",
              "      <td>F</td>\n",
              "      <td>N</td>\n",
              "      <td>L</td>\n",
              "      <td>9</td>\n",
              "      <td>XOUGBXCBUKB NBZX</td>\n",
              "      <td>ERLSYEL</td>\n",
              "      <td>ERLSYEL</td>\n",
              "      <td>ERLSYELXORKB</td>\n",
              "      <td>EL4 2BO</td>\n",
              "      <td>80.0</td>\n",
              "      <td>B</td>\n",
              "    </tr>\n",
              "    <tr>\n",
              "      <th>1</th>\n",
              "      <td>2018-01-01</td>\n",
              "      <td>T</td>\n",
              "      <td>Y</td>\n",
              "      <td>F</td>\n",
              "      <td>02</td>\n",
              "      <td>OYYG ZUQ</td>\n",
              "      <td>NURFXMYLB</td>\n",
              "      <td>NURFXMYLB</td>\n",
              "      <td>GBLM</td>\n",
              "      <td>NB09 6VZ</td>\n",
              "      <td>218.5</td>\n",
              "      <td>A</td>\n",
              "    </tr>\n",
              "    <tr>\n",
              "      <th>2</th>\n",
              "      <td>2018-01-01</td>\n",
              "      <td>D</td>\n",
              "      <td>N</td>\n",
              "      <td>F</td>\n",
              "      <td>32</td>\n",
              "      <td>XYNBKX CUKG UPBLWB</td>\n",
              "      <td>NUEPBKL</td>\n",
              "      <td>NUEPBKL OREEX</td>\n",
              "      <td>ZYKSBXMBKXORKB</td>\n",
              "      <td>ZK01 0XF</td>\n",
              "      <td>250.0</td>\n",
              "      <td>A</td>\n",
              "    </tr>\n",
              "    <tr>\n",
              "      <th>3</th>\n",
              "      <td>2018-01-01</td>\n",
              "      <td>O</td>\n",
              "      <td>N</td>\n",
              "      <td>F</td>\n",
              "      <td>0</td>\n",
              "      <td>OUMOUZUQ SEYXB</td>\n",
              "      <td>EBRSBXMBK</td>\n",
              "      <td>EBRSBXMBK</td>\n",
              "      <td>EBRSBXMBK</td>\n",
              "      <td>EB1 3HI</td>\n",
              "      <td>6050.0</td>\n",
              "      <td>B</td>\n",
              "    </tr>\n",
              "    <tr>\n",
              "      <th>4</th>\n",
              "      <td>2018-01-01</td>\n",
              "      <td>T</td>\n",
              "      <td>N</td>\n",
              "      <td>F</td>\n",
              "      <td>14</td>\n",
              "      <td>MBNBKURKB KYUF</td>\n",
              "      <td>CEQNYWMO</td>\n",
              "      <td>SRMQ YV CEQNYWMO</td>\n",
              "      <td>SRMQ YV CEQNYWMO</td>\n",
              "      <td>CE4 6WU</td>\n",
              "      <td>182.0</td>\n",
              "      <td>A</td>\n",
              "    </tr>\n",
              "  </tbody>\n",
              "</table>\n",
              "</div>"
            ],
            "text/plain": [
              "         Date Property Type OldvNew  ...  Postcode   Price Price Category\n",
              "0  2018-01-01             F       N  ...   EL4 2BO    80.0              B\n",
              "1  2018-01-01             T       Y  ...  NB09 6VZ   218.5              A\n",
              "2  2018-01-01             D       N  ...  ZK01 0XF   250.0              A\n",
              "3  2018-01-01             O       N  ...   EB1 3HI  6050.0              B\n",
              "4  2018-01-01             T       N  ...   CE4 6WU   182.0              A\n",
              "\n",
              "[5 rows x 12 columns]"
            ]
          },
          "metadata": {
            "tags": []
          },
          "execution_count": 7
        }
      ]
    },
    {
      "cell_type": "code",
      "metadata": {
        "id": "o8xgtXTdAlDC",
        "colab_type": "code",
        "colab": {
          "base_uri": "https://localhost:8080/",
          "height": 34
        },
        "outputId": "9d6c471b-d656-4a77-d5d2-844290fdb8e5"
      },
      "source": [
        "train.shape"
      ],
      "execution_count": 8,
      "outputs": [
        {
          "output_type": "execute_result",
          "data": {
            "text/plain": [
              "(1219110, 12)"
            ]
          },
          "metadata": {
            "tags": []
          },
          "execution_count": 8
        }
      ]
    },
    {
      "cell_type": "code",
      "metadata": {
        "id": "TNWl3gKqBgh6",
        "colab_type": "code",
        "colab": {}
      },
      "source": [
        "date = train[ 'Date'].values"
      ],
      "execution_count": 0,
      "outputs": []
    },
    {
      "cell_type": "code",
      "metadata": {
        "id": "cR_9vOLMBtoJ",
        "colab_type": "code",
        "colab": {
          "base_uri": "https://localhost:8080/",
          "height": 51
        },
        "outputId": "a5ce790a-daa7-41f7-cfce-4c83246a957e"
      },
      "source": [
        "date"
      ],
      "execution_count": 10,
      "outputs": [
        {
          "output_type": "execute_result",
          "data": {
            "text/plain": [
              "array(['2018-01-01', '2018-01-01', '2018-01-01', ..., '2019-03-31',\n",
              "       '2019-03-31', '2019-03-31'], dtype=object)"
            ]
          },
          "metadata": {
            "tags": []
          },
          "execution_count": 10
        }
      ]
    },
    {
      "cell_type": "code",
      "metadata": {
        "id": "F6W86LD-CBex",
        "colab_type": "code",
        "colab": {}
      },
      "source": [
        "sObject = slice(0,4)\n",
        "year = []\n",
        "for dates in date:\n",
        "  year.append(dates[sObject])"
      ],
      "execution_count": 0,
      "outputs": []
    },
    {
      "cell_type": "markdown",
      "metadata": {
        "id": "4UjPmQB94BXs",
        "colab_type": "text"
      },
      "source": [
        "Since, inflation might increase the price over time, so just taking the year into account instead of date"
      ]
    },
    {
      "cell_type": "code",
      "metadata": {
        "id": "lJVnBhXHCIXb",
        "colab_type": "code",
        "colab": {}
      },
      "source": [
        "#year"
      ],
      "execution_count": 0,
      "outputs": []
    },
    {
      "cell_type": "code",
      "metadata": {
        "id": "4b600bweCXBZ",
        "colab_type": "code",
        "colab": {
          "base_uri": "https://localhost:8080/",
          "height": 286
        },
        "outputId": "ccdda93f-7ac7-449a-ab46-3308b9f261bc"
      },
      "source": [
        "sns.countplot(year, label = 'Counts')"
      ],
      "execution_count": 13,
      "outputs": [
        {
          "output_type": "execute_result",
          "data": {
            "text/plain": [
              "<matplotlib.axes._subplots.AxesSubplot at 0x7efd80365b00>"
            ]
          },
          "metadata": {
            "tags": []
          },
          "execution_count": 13
        },
        {
          "output_type": "display_data",
          "data": {
            "image/png": "[encoded data removed]",
            "text/plain": [
              "<Figure size 432x288 with 1 Axes>"
            ]
          },
          "metadata": {
            "tags": []
          }
        }
      ]
    },
    {
      "cell_type": "code",
      "metadata": {
        "id": "mQi6YvqzCgKp",
        "colab_type": "code",
        "colab": {}
      },
      "source": [
        "train = train.drop(['Date'], axis = 1)"
      ],
      "execution_count": 0,
      "outputs": []
    },
    {
      "cell_type": "code",
      "metadata": {
        "id": "N97tGz0iDdl4",
        "colab_type": "code",
        "colab": {
          "base_uri": "https://localhost:8080/",
          "height": 204
        },
        "outputId": "688391aa-02b6-4dad-f852-8f8a9fda2022"
      },
      "source": [
        "train.head()"
      ],
      "execution_count": 15,
      "outputs": [
        {
          "output_type": "execute_result",
          "data": {
            "text/html": [
              "<div>\n",
              "<style scoped>\n",
              "    .dataframe tbody tr th:only-of-type {\n",
              "        vertical-align: middle;\n",
              "    }\n",
              "\n",
              "    .dataframe tbody tr th {\n",
              "        vertical-align: top;\n",
              "    }\n",
              "\n",
              "    .dataframe thead th {\n",
              "        text-align: right;\n",
              "    }\n",
              "</style>\n",
              "<table border=\"1\" class=\"dataframe\">\n",
              "  <thead>\n",
              "    <tr style=\"text-align: right;\">\n",
              "      <th></th>\n",
              "      <th>Property Type</th>\n",
              "      <th>OldvNew</th>\n",
              "      <th>Duration</th>\n",
              "      <th>AddressLine1</th>\n",
              "      <th>Street</th>\n",
              "      <th>Town</th>\n",
              "      <th>Taluka</th>\n",
              "      <th>District</th>\n",
              "      <th>Postcode</th>\n",
              "      <th>Price</th>\n",
              "      <th>Price Category</th>\n",
              "    </tr>\n",
              "  </thead>\n",
              "  <tbody>\n",
              "    <tr>\n",
              "      <th>0</th>\n",
              "      <td>F</td>\n",
              "      <td>N</td>\n",
              "      <td>L</td>\n",
              "      <td>9</td>\n",
              "      <td>XOUGBXCBUKB NBZX</td>\n",
              "      <td>ERLSYEL</td>\n",
              "      <td>ERLSYEL</td>\n",
              "      <td>ERLSYELXORKB</td>\n",
              "      <td>EL4 2BO</td>\n",
              "      <td>80.0</td>\n",
              "      <td>B</td>\n",
              "    </tr>\n",
              "    <tr>\n",
              "      <th>1</th>\n",
              "      <td>T</td>\n",
              "      <td>Y</td>\n",
              "      <td>F</td>\n",
              "      <td>02</td>\n",
              "      <td>OYYG ZUQ</td>\n",
              "      <td>NURFXMYLB</td>\n",
              "      <td>NURFXMYLB</td>\n",
              "      <td>GBLM</td>\n",
              "      <td>NB09 6VZ</td>\n",
              "      <td>218.5</td>\n",
              "      <td>A</td>\n",
              "    </tr>\n",
              "    <tr>\n",
              "      <th>2</th>\n",
              "      <td>D</td>\n",
              "      <td>N</td>\n",
              "      <td>F</td>\n",
              "      <td>32</td>\n",
              "      <td>XYNBKX CUKG UPBLWB</td>\n",
              "      <td>NUEPBKL</td>\n",
              "      <td>NUEPBKL OREEX</td>\n",
              "      <td>ZYKSBXMBKXORKB</td>\n",
              "      <td>ZK01 0XF</td>\n",
              "      <td>250.0</td>\n",
              "      <td>A</td>\n",
              "    </tr>\n",
              "    <tr>\n",
              "      <th>3</th>\n",
              "      <td>O</td>\n",
              "      <td>N</td>\n",
              "      <td>F</td>\n",
              "      <td>0</td>\n",
              "      <td>OUMOUZUQ SEYXB</td>\n",
              "      <td>EBRSBXMBK</td>\n",
              "      <td>EBRSBXMBK</td>\n",
              "      <td>EBRSBXMBK</td>\n",
              "      <td>EB1 3HI</td>\n",
              "      <td>6050.0</td>\n",
              "      <td>B</td>\n",
              "    </tr>\n",
              "    <tr>\n",
              "      <th>4</th>\n",
              "      <td>T</td>\n",
              "      <td>N</td>\n",
              "      <td>F</td>\n",
              "      <td>14</td>\n",
              "      <td>MBNBKURKB KYUF</td>\n",
              "      <td>CEQNYWMO</td>\n",
              "      <td>SRMQ YV CEQNYWMO</td>\n",
              "      <td>SRMQ YV CEQNYWMO</td>\n",
              "      <td>CE4 6WU</td>\n",
              "      <td>182.0</td>\n",
              "      <td>A</td>\n",
              "    </tr>\n",
              "  </tbody>\n",
              "</table>\n",
              "</div>"
            ],
            "text/plain": [
              "  Property Type OldvNew Duration  ...  Postcode   Price Price Category\n",
              "0             F       N        L  ...   EL4 2BO    80.0              B\n",
              "1             T       Y        F  ...  NB09 6VZ   218.5              A\n",
              "2             D       N        F  ...  ZK01 0XF   250.0              A\n",
              "3             O       N        F  ...   EB1 3HI  6050.0              B\n",
              "4             T       N        F  ...   CE4 6WU   182.0              A\n",
              "\n",
              "[5 rows x 11 columns]"
            ]
          },
          "metadata": {
            "tags": []
          },
          "execution_count": 15
        }
      ]
    },
    {
      "cell_type": "code",
      "metadata": {
        "id": "1Wnc4xKADg2R",
        "colab_type": "code",
        "colab": {
          "base_uri": "https://localhost:8080/",
          "height": 204
        },
        "outputId": "b28ac78e-2707-4bb6-d8cc-61fbb9682c9d"
      },
      "source": [
        "year_df = pd.DataFrame(data = {\"Year\":year})\n",
        "year_df.head()"
      ],
      "execution_count": 16,
      "outputs": [
        {
          "output_type": "execute_result",
          "data": {
            "text/html": [
              "<div>\n",
              "<style scoped>\n",
              "    .dataframe tbody tr th:only-of-type {\n",
              "        vertical-align: middle;\n",
              "    }\n",
              "\n",
              "    .dataframe tbody tr th {\n",
              "        vertical-align: top;\n",
              "    }\n",
              "\n",
              "    .dataframe thead th {\n",
              "        text-align: right;\n",
              "    }\n",
              "</style>\n",
              "<table border=\"1\" class=\"dataframe\">\n",
              "  <thead>\n",
              "    <tr style=\"text-align: right;\">\n",
              "      <th></th>\n",
              "      <th>Year</th>\n",
              "    </tr>\n",
              "  </thead>\n",
              "  <tbody>\n",
              "    <tr>\n",
              "      <th>0</th>\n",
              "      <td>2018</td>\n",
              "    </tr>\n",
              "    <tr>\n",
              "      <th>1</th>\n",
              "      <td>2018</td>\n",
              "    </tr>\n",
              "    <tr>\n",
              "      <th>2</th>\n",
              "      <td>2018</td>\n",
              "    </tr>\n",
              "    <tr>\n",
              "      <th>3</th>\n",
              "      <td>2018</td>\n",
              "    </tr>\n",
              "    <tr>\n",
              "      <th>4</th>\n",
              "      <td>2018</td>\n",
              "    </tr>\n",
              "  </tbody>\n",
              "</table>\n",
              "</div>"
            ],
            "text/plain": [
              "   Year\n",
              "0  2018\n",
              "1  2018\n",
              "2  2018\n",
              "3  2018\n",
              "4  2018"
            ]
          },
          "metadata": {
            "tags": []
          },
          "execution_count": 16
        }
      ]
    },
    {
      "cell_type": "code",
      "metadata": {
        "id": "ldJ3of4MEPPb",
        "colab_type": "code",
        "colab": {
          "base_uri": "https://localhost:8080/",
          "height": 204
        },
        "outputId": "7a60b48e-74d5-4ca8-97b4-c9ff1af15dcd"
      },
      "source": [
        "train = pd.concat([train,year_df], axis = 1)\n",
        "train.head()"
      ],
      "execution_count": 17,
      "outputs": [
        {
          "output_type": "execute_result",
          "data": {
            "text/html": [
              "<div>\n",
              "<style scoped>\n",
              "    .dataframe tbody tr th:only-of-type {\n",
              "        vertical-align: middle;\n",
              "    }\n",
              "\n",
              "    .dataframe tbody tr th {\n",
              "        vertical-align: top;\n",
              "    }\n",
              "\n",
              "    .dataframe thead th {\n",
              "        text-align: right;\n",
              "    }\n",
              "</style>\n",
              "<table border=\"1\" class=\"dataframe\">\n",
              "  <thead>\n",
              "    <tr style=\"text-align: right;\">\n",
              "      <th></th>\n",
              "      <th>Property Type</th>\n",
              "      <th>OldvNew</th>\n",
              "      <th>Duration</th>\n",
              "      <th>AddressLine1</th>\n",
              "      <th>Street</th>\n",
              "      <th>Town</th>\n",
              "      <th>Taluka</th>\n",
              "      <th>District</th>\n",
              "      <th>Postcode</th>\n",
              "      <th>Price</th>\n",
              "      <th>Price Category</th>\n",
              "      <th>Year</th>\n",
              "    </tr>\n",
              "  </thead>\n",
              "  <tbody>\n",
              "    <tr>\n",
              "      <th>0</th>\n",
              "      <td>F</td>\n",
              "      <td>N</td>\n",
              "      <td>L</td>\n",
              "      <td>9</td>\n",
              "      <td>XOUGBXCBUKB NBZX</td>\n",
              "      <td>ERLSYEL</td>\n",
              "      <td>ERLSYEL</td>\n",
              "      <td>ERLSYELXORKB</td>\n",
              "      <td>EL4 2BO</td>\n",
              "      <td>80.0</td>\n",
              "      <td>B</td>\n",
              "      <td>2018</td>\n",
              "    </tr>\n",
              "    <tr>\n",
              "      <th>1</th>\n",
              "      <td>T</td>\n",
              "      <td>Y</td>\n",
              "      <td>F</td>\n",
              "      <td>02</td>\n",
              "      <td>OYYG ZUQ</td>\n",
              "      <td>NURFXMYLB</td>\n",
              "      <td>NURFXMYLB</td>\n",
              "      <td>GBLM</td>\n",
              "      <td>NB09 6VZ</td>\n",
              "      <td>218.5</td>\n",
              "      <td>A</td>\n",
              "      <td>2018</td>\n",
              "    </tr>\n",
              "    <tr>\n",
              "      <th>2</th>\n",
              "      <td>D</td>\n",
              "      <td>N</td>\n",
              "      <td>F</td>\n",
              "      <td>32</td>\n",
              "      <td>XYNBKX CUKG UPBLWB</td>\n",
              "      <td>NUEPBKL</td>\n",
              "      <td>NUEPBKL OREEX</td>\n",
              "      <td>ZYKSBXMBKXORKB</td>\n",
              "      <td>ZK01 0XF</td>\n",
              "      <td>250.0</td>\n",
              "      <td>A</td>\n",
              "      <td>2018</td>\n",
              "    </tr>\n",
              "    <tr>\n",
              "      <th>3</th>\n",
              "      <td>O</td>\n",
              "      <td>N</td>\n",
              "      <td>F</td>\n",
              "      <td>0</td>\n",
              "      <td>OUMOUZUQ SEYXB</td>\n",
              "      <td>EBRSBXMBK</td>\n",
              "      <td>EBRSBXMBK</td>\n",
              "      <td>EBRSBXMBK</td>\n",
              "      <td>EB1 3HI</td>\n",
              "      <td>6050.0</td>\n",
              "      <td>B</td>\n",
              "      <td>2018</td>\n",
              "    </tr>\n",
              "    <tr>\n",
              "      <th>4</th>\n",
              "      <td>T</td>\n",
              "      <td>N</td>\n",
              "      <td>F</td>\n",
              "      <td>14</td>\n",
              "      <td>MBNBKURKB KYUF</td>\n",
              "      <td>CEQNYWMO</td>\n",
              "      <td>SRMQ YV CEQNYWMO</td>\n",
              "      <td>SRMQ YV CEQNYWMO</td>\n",
              "      <td>CE4 6WU</td>\n",
              "      <td>182.0</td>\n",
              "      <td>A</td>\n",
              "      <td>2018</td>\n",
              "    </tr>\n",
              "  </tbody>\n",
              "</table>\n",
              "</div>"
            ],
            "text/plain": [
              "  Property Type OldvNew Duration  ...   Price Price Category  Year\n",
              "0             F       N        L  ...    80.0              B  2018\n",
              "1             T       Y        F  ...   218.5              A  2018\n",
              "2             D       N        F  ...   250.0              A  2018\n",
              "3             O       N        F  ...  6050.0              B  2018\n",
              "4             T       N        F  ...   182.0              A  2018\n",
              "\n",
              "[5 rows x 12 columns]"
            ]
          },
          "metadata": {
            "tags": []
          },
          "execution_count": 17
        }
      ]
    },
    {
      "cell_type": "markdown",
      "metadata": {
        "id": "q3FEQWyK4MSG",
        "colab_type": "text"
      },
      "source": [
        "Data exploration to fill the null entries in the postcodes"
      ]
    },
    {
      "cell_type": "code",
      "metadata": {
        "id": "AxCXpfwtEk1r",
        "colab_type": "code",
        "colab": {
          "base_uri": "https://localhost:8080/",
          "height": 102
        },
        "outputId": "a03963c8-86f5-44bd-fc60-ff074ed2e95a"
      },
      "source": [
        "train['Street'].describe()"
      ],
      "execution_count": 18,
      "outputs": [
        {
          "output_type": "execute_result",
          "data": {
            "text/plain": [
              "count         1196498\n",
              "unique         192843\n",
              "top       ORJO XMKBBM\n",
              "freq             9027\n",
              "Name: Street, dtype: object"
            ]
          },
          "metadata": {
            "tags": []
          },
          "execution_count": 18
        }
      ]
    },
    {
      "cell_type": "code",
      "metadata": {
        "id": "VN7AgVD4FagC",
        "colab_type": "code",
        "colab": {
          "base_uri": "https://localhost:8080/",
          "height": 102
        },
        "outputId": "2eff3754-3633-4cb8-93a6-c13aab17b40e"
      },
      "source": [
        "train['Postcode'].describe()"
      ],
      "execution_count": 19,
      "outputs": [
        {
          "output_type": "execute_result",
          "data": {
            "text/plain": [
              "count     1213332\n",
              "unique     598399\n",
              "top        E4 6UU\n",
              "freq          275\n",
              "Name: Postcode, dtype: object"
            ]
          },
          "metadata": {
            "tags": []
          },
          "execution_count": 19
        }
      ]
    },
    {
      "cell_type": "code",
      "metadata": {
        "id": "hY0mb7I6JEo4",
        "colab_type": "code",
        "colab": {
          "base_uri": "https://localhost:8080/",
          "height": 102
        },
        "outputId": "f79dc47d-ed43-4fc8-980c-25544a6b666e"
      },
      "source": [
        "train[(train['Price']<=94) & (train['Price']>=93.5)]['Postcode'].describe()"
      ],
      "execution_count": 20,
      "outputs": [
        {
          "output_type": "execute_result",
          "data": {
            "text/plain": [
              "count        1591\n",
              "unique       1527\n",
              "top       E07 0EF\n",
              "freq           11\n",
              "Name: Postcode, dtype: object"
            ]
          },
          "metadata": {
            "tags": []
          },
          "execution_count": 20
        }
      ]
    },
    {
      "cell_type": "code",
      "metadata": {
        "id": "nkON9AN6IQSp",
        "colab_type": "code",
        "colab": {
          "base_uri": "https://localhost:8080/",
          "height": 34
        },
        "outputId": "14f22fcf-9ae1-4718-8803-3754aefe407c"
      },
      "source": [
        "train_orig[train_orig[\"Postcode\"].isnull()]['Price'].median()"
      ],
      "execution_count": 21,
      "outputs": [
        {
          "output_type": "execute_result",
          "data": {
            "text/plain": [
              "93.9815"
            ]
          },
          "metadata": {
            "tags": []
          },
          "execution_count": 21
        }
      ]
    },
    {
      "cell_type": "code",
      "metadata": {
        "id": "FHskCHTBFnp5",
        "colab_type": "code",
        "colab": {}
      },
      "source": [
        "def FillPC(postcode):\n",
        "  if(pd.isnull(postcode)):\n",
        "    return 'E07 0EF'\n",
        "  else:\n",
        "    return postcode"
      ],
      "execution_count": 0,
      "outputs": []
    },
    {
      "cell_type": "code",
      "metadata": {
        "id": "E6Wf2OLiGD9h",
        "colab_type": "code",
        "colab": {}
      },
      "source": [
        "train[\"Postcode\"] = train[\"Postcode\"].apply(FillPC)"
      ],
      "execution_count": 0,
      "outputs": []
    },
    {
      "cell_type": "code",
      "metadata": {
        "id": "YxsKjzQpGOxi",
        "colab_type": "code",
        "colab": {
          "base_uri": "https://localhost:8080/",
          "height": 349
        },
        "outputId": "c6f1f135-0df4-4abc-f6fd-ec3cf83d086f"
      },
      "source": [
        "sns.heatmap(train.isnull(), cmap = 'Blues')"
      ],
      "execution_count": 24,
      "outputs": [
        {
          "output_type": "execute_result",
          "data": {
            "text/plain": [
              "<matplotlib.axes._subplots.AxesSubplot at 0x7efd7e6f6be0>"
            ]
          },
          "metadata": {
            "tags": []
          },
          "execution_count": 24
        },
        {
          "output_type": "display_data",
          "data": {
            "image/png": "[encoded data removed]",
            "text/plain": [
              "<Figure size 432x288 with 2 Axes>"
            ]
          },
          "metadata": {
            "tags": []
          }
        }
      ]
    },
    {
      "cell_type": "code",
      "metadata": {
        "id": "sNAm9JLZGaY5",
        "colab_type": "code",
        "colab": {}
      },
      "source": [
        "nulls = train[train['Street'].isnull()]"
      ],
      "execution_count": 0,
      "outputs": []
    },
    {
      "cell_type": "code",
      "metadata": {
        "id": "QM_FU2bCGqfx",
        "colab_type": "code",
        "colab": {
          "base_uri": "https://localhost:8080/",
          "height": 204
        },
        "outputId": "c43caa84-3c96-4c05-a8c9-3b5b1c7c8d8b"
      },
      "source": [
        "nulls.head()"
      ],
      "execution_count": 26,
      "outputs": [
        {
          "output_type": "execute_result",
          "data": {
            "text/html": [
              "<div>\n",
              "<style scoped>\n",
              "    .dataframe tbody tr th:only-of-type {\n",
              "        vertical-align: middle;\n",
              "    }\n",
              "\n",
              "    .dataframe tbody tr th {\n",
              "        vertical-align: top;\n",
              "    }\n",
              "\n",
              "    .dataframe thead th {\n",
              "        text-align: right;\n",
              "    }\n",
              "</style>\n",
              "<table border=\"1\" class=\"dataframe\">\n",
              "  <thead>\n",
              "    <tr style=\"text-align: right;\">\n",
              "      <th></th>\n",
              "      <th>Property Type</th>\n",
              "      <th>OldvNew</th>\n",
              "      <th>Duration</th>\n",
              "      <th>AddressLine1</th>\n",
              "      <th>Street</th>\n",
              "      <th>Town</th>\n",
              "      <th>Taluka</th>\n",
              "      <th>District</th>\n",
              "      <th>Postcode</th>\n",
              "      <th>Price</th>\n",
              "      <th>Price Category</th>\n",
              "      <th>Year</th>\n",
              "    </tr>\n",
              "  </thead>\n",
              "  <tbody>\n",
              "    <tr>\n",
              "      <th>74</th>\n",
              "      <td>O</td>\n",
              "      <td>N</td>\n",
              "      <td>F</td>\n",
              "      <td>GRLJ'X PUEB</td>\n",
              "      <td>NaN</td>\n",
              "      <td>GBMMBKRLJ</td>\n",
              "      <td>GBMMBKRLJ</td>\n",
              "      <td>LYKMOUNCMYLXORKB</td>\n",
              "      <td>E07 0EF</td>\n",
              "      <td>11.455</td>\n",
              "      <td>B</td>\n",
              "      <td>2018</td>\n",
              "    </tr>\n",
              "    <tr>\n",
              "      <th>75</th>\n",
              "      <td>O</td>\n",
              "      <td>N</td>\n",
              "      <td>F</td>\n",
              "      <td>GRLJ'X PUEB</td>\n",
              "      <td>NaN</td>\n",
              "      <td>GBMMBKRLJ</td>\n",
              "      <td>GBMMBKRLJ</td>\n",
              "      <td>LYKMOUNCMYLXORKB</td>\n",
              "      <td>E07 0EF</td>\n",
              "      <td>11.818</td>\n",
              "      <td>B</td>\n",
              "      <td>2018</td>\n",
              "    </tr>\n",
              "    <tr>\n",
              "      <th>80</th>\n",
              "      <td>O</td>\n",
              "      <td>N</td>\n",
              "      <td>F</td>\n",
              "      <td>GRLJ'X PUEB</td>\n",
              "      <td>NaN</td>\n",
              "      <td>GBMMBKRLJ</td>\n",
              "      <td>GBMMBKRLJ</td>\n",
              "      <td>LYKMOUNCMYLXORKB</td>\n",
              "      <td>E07 0EF</td>\n",
              "      <td>10.909</td>\n",
              "      <td>B</td>\n",
              "      <td>2018</td>\n",
              "    </tr>\n",
              "    <tr>\n",
              "      <th>85</th>\n",
              "      <td>O</td>\n",
              "      <td>N</td>\n",
              "      <td>F</td>\n",
              "      <td>GRLJ'X PUEB</td>\n",
              "      <td>NaN</td>\n",
              "      <td>GBMMBKRLJ</td>\n",
              "      <td>GBMMBKRLJ</td>\n",
              "      <td>LYKMOUNCMYLXORKB</td>\n",
              "      <td>E07 0EF</td>\n",
              "      <td>11.818</td>\n",
              "      <td>B</td>\n",
              "      <td>2018</td>\n",
              "    </tr>\n",
              "    <tr>\n",
              "      <th>86</th>\n",
              "      <td>O</td>\n",
              "      <td>N</td>\n",
              "      <td>F</td>\n",
              "      <td>GRLJ'X PUEB</td>\n",
              "      <td>NaN</td>\n",
              "      <td>GBMMBKRLJ</td>\n",
              "      <td>GBMMBKRLJ</td>\n",
              "      <td>LYKMOUNCMYLXORKB</td>\n",
              "      <td>E07 0EF</td>\n",
              "      <td>32.727</td>\n",
              "      <td>B</td>\n",
              "      <td>2018</td>\n",
              "    </tr>\n",
              "  </tbody>\n",
              "</table>\n",
              "</div>"
            ],
            "text/plain": [
              "   Property Type OldvNew Duration  ...   Price Price Category  Year\n",
              "74             O       N        F  ...  11.455              B  2018\n",
              "75             O       N        F  ...  11.818              B  2018\n",
              "80             O       N        F  ...  10.909              B  2018\n",
              "85             O       N        F  ...  11.818              B  2018\n",
              "86             O       N        F  ...  32.727              B  2018\n",
              "\n",
              "[5 rows x 12 columns]"
            ]
          },
          "metadata": {
            "tags": []
          },
          "execution_count": 26
        }
      ]
    },
    {
      "cell_type": "code",
      "metadata": {
        "id": "pNGSlvoiG1mp",
        "colab_type": "code",
        "colab": {
          "base_uri": "https://localhost:8080/",
          "height": 204
        },
        "outputId": "f8af9904-7dd6-4540-c39c-1720e5155636"
      },
      "source": [
        "train[(train['Street'].isnull())&(train['Town']=='GBMMBKRLJ')].head()"
      ],
      "execution_count": 27,
      "outputs": [
        {
          "output_type": "execute_result",
          "data": {
            "text/html": [
              "<div>\n",
              "<style scoped>\n",
              "    .dataframe tbody tr th:only-of-type {\n",
              "        vertical-align: middle;\n",
              "    }\n",
              "\n",
              "    .dataframe tbody tr th {\n",
              "        vertical-align: top;\n",
              "    }\n",
              "\n",
              "    .dataframe thead th {\n",
              "        text-align: right;\n",
              "    }\n",
              "</style>\n",
              "<table border=\"1\" class=\"dataframe\">\n",
              "  <thead>\n",
              "    <tr style=\"text-align: right;\">\n",
              "      <th></th>\n",
              "      <th>Property Type</th>\n",
              "      <th>OldvNew</th>\n",
              "      <th>Duration</th>\n",
              "      <th>AddressLine1</th>\n",
              "      <th>Street</th>\n",
              "      <th>Town</th>\n",
              "      <th>Taluka</th>\n",
              "      <th>District</th>\n",
              "      <th>Postcode</th>\n",
              "      <th>Price</th>\n",
              "      <th>Price Category</th>\n",
              "      <th>Year</th>\n",
              "    </tr>\n",
              "  </thead>\n",
              "  <tbody>\n",
              "    <tr>\n",
              "      <th>74</th>\n",
              "      <td>O</td>\n",
              "      <td>N</td>\n",
              "      <td>F</td>\n",
              "      <td>GRLJ'X PUEB</td>\n",
              "      <td>NaN</td>\n",
              "      <td>GBMMBKRLJ</td>\n",
              "      <td>GBMMBKRLJ</td>\n",
              "      <td>LYKMOUNCMYLXORKB</td>\n",
              "      <td>E07 0EF</td>\n",
              "      <td>11.455</td>\n",
              "      <td>B</td>\n",
              "      <td>2018</td>\n",
              "    </tr>\n",
              "    <tr>\n",
              "      <th>75</th>\n",
              "      <td>O</td>\n",
              "      <td>N</td>\n",
              "      <td>F</td>\n",
              "      <td>GRLJ'X PUEB</td>\n",
              "      <td>NaN</td>\n",
              "      <td>GBMMBKRLJ</td>\n",
              "      <td>GBMMBKRLJ</td>\n",
              "      <td>LYKMOUNCMYLXORKB</td>\n",
              "      <td>E07 0EF</td>\n",
              "      <td>11.818</td>\n",
              "      <td>B</td>\n",
              "      <td>2018</td>\n",
              "    </tr>\n",
              "    <tr>\n",
              "      <th>80</th>\n",
              "      <td>O</td>\n",
              "      <td>N</td>\n",
              "      <td>F</td>\n",
              "      <td>GRLJ'X PUEB</td>\n",
              "      <td>NaN</td>\n",
              "      <td>GBMMBKRLJ</td>\n",
              "      <td>GBMMBKRLJ</td>\n",
              "      <td>LYKMOUNCMYLXORKB</td>\n",
              "      <td>E07 0EF</td>\n",
              "      <td>10.909</td>\n",
              "      <td>B</td>\n",
              "      <td>2018</td>\n",
              "    </tr>\n",
              "    <tr>\n",
              "      <th>85</th>\n",
              "      <td>O</td>\n",
              "      <td>N</td>\n",
              "      <td>F</td>\n",
              "      <td>GRLJ'X PUEB</td>\n",
              "      <td>NaN</td>\n",
              "      <td>GBMMBKRLJ</td>\n",
              "      <td>GBMMBKRLJ</td>\n",
              "      <td>LYKMOUNCMYLXORKB</td>\n",
              "      <td>E07 0EF</td>\n",
              "      <td>11.818</td>\n",
              "      <td>B</td>\n",
              "      <td>2018</td>\n",
              "    </tr>\n",
              "    <tr>\n",
              "      <th>86</th>\n",
              "      <td>O</td>\n",
              "      <td>N</td>\n",
              "      <td>F</td>\n",
              "      <td>GRLJ'X PUEB</td>\n",
              "      <td>NaN</td>\n",
              "      <td>GBMMBKRLJ</td>\n",
              "      <td>GBMMBKRLJ</td>\n",
              "      <td>LYKMOUNCMYLXORKB</td>\n",
              "      <td>E07 0EF</td>\n",
              "      <td>32.727</td>\n",
              "      <td>B</td>\n",
              "      <td>2018</td>\n",
              "    </tr>\n",
              "  </tbody>\n",
              "</table>\n",
              "</div>"
            ],
            "text/plain": [
              "   Property Type OldvNew Duration  ...   Price Price Category  Year\n",
              "74             O       N        F  ...  11.455              B  2018\n",
              "75             O       N        F  ...  11.818              B  2018\n",
              "80             O       N        F  ...  10.909              B  2018\n",
              "85             O       N        F  ...  11.818              B  2018\n",
              "86             O       N        F  ...  32.727              B  2018\n",
              "\n",
              "[5 rows x 12 columns]"
            ]
          },
          "metadata": {
            "tags": []
          },
          "execution_count": 27
        }
      ]
    },
    {
      "cell_type": "code",
      "metadata": {
        "id": "dm8dcfSxHbnJ",
        "colab_type": "code",
        "colab": {
          "base_uri": "https://localhost:8080/",
          "height": 306
        },
        "outputId": "339b001e-3e18-47e3-e4fb-9619f3d1c8d8"
      },
      "source": [
        "train[train[\"Street\"]=='ORJO XMKBBM'].head()"
      ],
      "execution_count": 28,
      "outputs": [
        {
          "output_type": "execute_result",
          "data": {
            "text/html": [
              "<div>\n",
              "<style scoped>\n",
              "    .dataframe tbody tr th:only-of-type {\n",
              "        vertical-align: middle;\n",
              "    }\n",
              "\n",
              "    .dataframe tbody tr th {\n",
              "        vertical-align: top;\n",
              "    }\n",
              "\n",
              "    .dataframe thead th {\n",
              "        text-align: right;\n",
              "    }\n",
              "</style>\n",
              "<table border=\"1\" class=\"dataframe\">\n",
              "  <thead>\n",
              "    <tr style=\"text-align: right;\">\n",
              "      <th></th>\n",
              "      <th>Property Type</th>\n",
              "      <th>OldvNew</th>\n",
              "      <th>Duration</th>\n",
              "      <th>AddressLine1</th>\n",
              "      <th>Street</th>\n",
              "      <th>Town</th>\n",
              "      <th>Taluka</th>\n",
              "      <th>District</th>\n",
              "      <th>Postcode</th>\n",
              "      <th>Price</th>\n",
              "      <th>Price Category</th>\n",
              "      <th>Year</th>\n",
              "    </tr>\n",
              "  </thead>\n",
              "  <tbody>\n",
              "    <tr>\n",
              "      <th>117</th>\n",
              "      <td>O</td>\n",
              "      <td>N</td>\n",
              "      <td>F</td>\n",
              "      <td>2</td>\n",
              "      <td>ORJO XMKBBM</td>\n",
              "      <td>CYKMO</td>\n",
              "      <td>KOYLFFU SQLYL MUVV</td>\n",
              "      <td>KOYLFFU SQLYL MUVV</td>\n",
              "      <td>SV68 2CJ</td>\n",
              "      <td>100.00</td>\n",
              "      <td>B</td>\n",
              "      <td>2018</td>\n",
              "    </tr>\n",
              "    <tr>\n",
              "      <th>713</th>\n",
              "      <td>D</td>\n",
              "      <td>N</td>\n",
              "      <td>F</td>\n",
              "      <td>MOB YEF HWMSOBKX XOYC, 56H</td>\n",
              "      <td>ORJO XMKBBM</td>\n",
              "      <td>NUKGBM OUKHYKYWJO</td>\n",
              "      <td>OUKHYKYWJO</td>\n",
              "      <td>EBRSBXMBKXORKB</td>\n",
              "      <td>EB03 2WF</td>\n",
              "      <td>176.45</td>\n",
              "      <td>A</td>\n",
              "      <td>2018</td>\n",
              "    </tr>\n",
              "    <tr>\n",
              "      <th>856</th>\n",
              "      <td>T</td>\n",
              "      <td>N</td>\n",
              "      <td>F</td>\n",
              "      <td>XBUPRBZ</td>\n",
              "      <td>ORJO XMKBBM</td>\n",
              "      <td>SORSOBXMBK</td>\n",
              "      <td>SORSOBXMBK</td>\n",
              "      <td>ZBXM XWXXBA</td>\n",
              "      <td>CY02 2EK</td>\n",
              "      <td>1075.00</td>\n",
              "      <td>A</td>\n",
              "      <td>2018</td>\n",
              "    </tr>\n",
              "    <tr>\n",
              "      <th>1138</th>\n",
              "      <td>T</td>\n",
              "      <td>N</td>\n",
              "      <td>F</td>\n",
              "      <td>67</td>\n",
              "      <td>ORJO XMKBBM</td>\n",
              "      <td>CYLMQSEWL</td>\n",
              "      <td>KOYLFFU SQLYL MUVV</td>\n",
              "      <td>KOYLFFU SQLYL MUVV</td>\n",
              "      <td>SV95 2HK</td>\n",
              "      <td>89.00</td>\n",
              "      <td>A</td>\n",
              "      <td>2018</td>\n",
              "    </tr>\n",
              "    <tr>\n",
              "      <th>1217</th>\n",
              "      <td>F</td>\n",
              "      <td>N</td>\n",
              "      <td>L</td>\n",
              "      <td>BEQ OYWXB, 59</td>\n",
              "      <td>ORJO XMKBBM</td>\n",
              "      <td>UFFEBXMYLB</td>\n",
              "      <td>KWLLQNBFB</td>\n",
              "      <td>XWKKBQ</td>\n",
              "      <td>GM04 0MM</td>\n",
              "      <td>290.00</td>\n",
              "      <td>A</td>\n",
              "      <td>2018</td>\n",
              "    </tr>\n",
              "  </tbody>\n",
              "</table>\n",
              "</div>"
            ],
            "text/plain": [
              "     Property Type OldvNew Duration  ...    Price Price Category  Year\n",
              "117              O       N        F  ...   100.00              B  2018\n",
              "713              D       N        F  ...   176.45              A  2018\n",
              "856              T       N        F  ...  1075.00              A  2018\n",
              "1138             T       N        F  ...    89.00              A  2018\n",
              "1217             F       N        L  ...   290.00              A  2018\n",
              "\n",
              "[5 rows x 12 columns]"
            ]
          },
          "metadata": {
            "tags": []
          },
          "execution_count": 28
        }
      ]
    },
    {
      "cell_type": "markdown",
      "metadata": {
        "id": "KgVaL_dbLZ5t",
        "colab_type": "text"
      },
      "source": [
        "Street is not a good factor determining the price because for the same street there are different postcodes and prices."
      ]
    },
    {
      "cell_type": "code",
      "metadata": {
        "id": "7kwUfLD_KKvR",
        "colab_type": "code",
        "colab": {}
      },
      "source": [
        "train = train.drop(['Street'], axis = 1)"
      ],
      "execution_count": 0,
      "outputs": []
    },
    {
      "cell_type": "code",
      "metadata": {
        "id": "O8KsDCOYL0-P",
        "colab_type": "code",
        "colab": {
          "base_uri": "https://localhost:8080/",
          "height": 349
        },
        "outputId": "1522b97a-588e-4349-c845-da5f6ec0a8e3"
      },
      "source": [
        "sns.heatmap(train.isnull(), cmap = 'Blues')"
      ],
      "execution_count": 30,
      "outputs": [
        {
          "output_type": "execute_result",
          "data": {
            "text/plain": [
              "<matplotlib.axes._subplots.AxesSubplot at 0x7efd7e5cd3c8>"
            ]
          },
          "metadata": {
            "tags": []
          },
          "execution_count": 30
        },
        {
          "output_type": "display_data",
          "data": {
            "image/png": "[encoded data removed]",
            "text/plain": [
              "<Figure size 432x288 with 2 Axes>"
            ]
          },
          "metadata": {
            "tags": []
          }
        }
      ]
    },
    {
      "cell_type": "code",
      "metadata": {
        "id": "0HDaHK3_OYwq",
        "colab_type": "code",
        "colab": {
          "base_uri": "https://localhost:8080/",
          "height": 102
        },
        "outputId": "418a0858-ecc3-49c9-a9a2-7c536e7fa31b"
      },
      "source": [
        "train['Town'].describe()"
      ],
      "execution_count": 31,
      "outputs": [
        {
          "output_type": "execute_result",
          "data": {
            "text/plain": [
              "count     1219110\n",
              "unique       1147\n",
              "top        EYLFYL\n",
              "freq        77887\n",
              "Name: Town, dtype: object"
            ]
          },
          "metadata": {
            "tags": []
          },
          "execution_count": 31
        }
      ]
    },
    {
      "cell_type": "code",
      "metadata": {
        "id": "k2TyxI9QO8qb",
        "colab_type": "code",
        "colab": {
          "base_uri": "https://localhost:8080/",
          "height": 102
        },
        "outputId": "1a406cb4-c32d-4049-de43-1539fbee254a"
      },
      "source": [
        "train['Taluka'].describe()"
      ],
      "execution_count": 32,
      "outputs": [
        {
          "output_type": "execute_result",
          "data": {
            "text/plain": [
              "count        1219110\n",
              "unique           353\n",
              "top       HRKNRLJOUN\n",
              "freq           19391\n",
              "Name: Taluka, dtype: object"
            ]
          },
          "metadata": {
            "tags": []
          },
          "execution_count": 32
        }
      ]
    },
    {
      "cell_type": "code",
      "metadata": {
        "id": "0ctx1JmcPMKv",
        "colab_type": "code",
        "colab": {
          "base_uri": "https://localhost:8080/",
          "height": 102
        },
        "outputId": "3b6f066d-b0d8-4dd1-ff10-7f97d618463e"
      },
      "source": [
        "train['Postcode'].describe()"
      ],
      "execution_count": 33,
      "outputs": [
        {
          "output_type": "execute_result",
          "data": {
            "text/plain": [
              "count     1219110\n",
              "unique     598399\n",
              "top       E07 0EF\n",
              "freq         5813\n",
              "Name: Postcode, dtype: object"
            ]
          },
          "metadata": {
            "tags": []
          },
          "execution_count": 33
        }
      ]
    },
    {
      "cell_type": "code",
      "metadata": {
        "id": "TFrD0UXVPu6E",
        "colab_type": "code",
        "colab": {
          "base_uri": "https://localhost:8080/",
          "height": 1000
        },
        "outputId": "03862eb2-8546-4925-92d4-f7b3471167e3"
      },
      "source": [
        "X = train.drop(['Price'], axis = 1)\n",
        "Y = train['Price']\n",
        "\n",
        "cols = X.columns.tolist()\n",
        "print(cols)\n",
        "print(train[\"Price\"])"
      ],
      "execution_count": 34,
      "outputs": [
        {
          "output_type": "stream",
          "text": [
            "['Property Type', 'OldvNew', 'Duration', 'AddressLine1', 'Town', 'Taluka', 'District', 'Postcode', 'Price Category', 'Year']\n",
            "0            80.000\n",
            "1           218.500\n",
            "2           250.000\n",
            "3          6050.000\n",
            "4           182.000\n",
            "5            30.000\n",
            "6           130.000\n",
            "7           107.000\n",
            "8            71.000\n",
            "9           153.750\n",
            "10          215.000\n",
            "11          390.000\n",
            "12          167.590\n",
            "13          233.500\n",
            "14          270.000\n",
            "15         3178.209\n",
            "16          395.000\n",
            "17          220.000\n",
            "18          349.000\n",
            "19          470.000\n",
            "20          273.000\n",
            "21          112.000\n",
            "22          410.000\n",
            "23          170.000\n",
            "24          335.000\n",
            "25          405.000\n",
            "26          186.000\n",
            "27          172.500\n",
            "28          265.000\n",
            "29          400.000\n",
            "             ...   \n",
            "1219080     182.000\n",
            "1219081    2282.256\n",
            "1219082    2591.407\n",
            "1219083     130.000\n",
            "1219084     658.937\n",
            "1219085     399.922\n",
            "1219086     130.000\n",
            "1219087     324.140\n",
            "1219088     595.709\n",
            "1219089    5000.000\n",
            "1219090    1705.625\n",
            "1219091     322.744\n",
            "1219092     418.636\n",
            "1219093     370.083\n",
            "1219094     643.599\n",
            "1219095     607.456\n",
            "1219096     555.134\n",
            "1219097      94.500\n",
            "1219098     180.000\n",
            "1219099     788.937\n",
            "1219100    1880.696\n",
            "1219101    1340.211\n",
            "1219102    1316.266\n",
            "1219103    2110.767\n",
            "1219104     650.719\n",
            "1219105     684.644\n",
            "1219106     117.950\n",
            "1219107     570.770\n",
            "1219108     651.984\n",
            "1219109     431.240\n",
            "Name: Price, Length: 1219110, dtype: float64\n"
          ],
          "name": "stdout"
        }
      ]
    },
    {
      "cell_type": "markdown",
      "metadata": {
        "id": "tPQAyQ0f4UUw",
        "colab_type": "text"
      },
      "source": [
        "Label Encoding all the remaining features"
      ]
    },
    {
      "cell_type": "code",
      "metadata": {
        "id": "XP7VJik6PCzy",
        "colab_type": "code",
        "colab": {
          "base_uri": "https://localhost:8080/",
          "height": 204
        },
        "outputId": "dc4ff298-6c68-4a12-b5b5-532402319eba"
      },
      "source": [
        "from sklearn.preprocessing import LabelEncoder\n",
        "\n",
        "for c in cols:\n",
        "  l_enc = LabelEncoder()\n",
        "  l_enc.fit(list(X[c].values)) \n",
        "  X[c] = l_enc.transform(list(X[c].values))\n",
        "X.head()"
      ],
      "execution_count": 35,
      "outputs": [
        {
          "output_type": "execute_result",
          "data": {
            "text/html": [
              "<div>\n",
              "<style scoped>\n",
              "    .dataframe tbody tr th:only-of-type {\n",
              "        vertical-align: middle;\n",
              "    }\n",
              "\n",
              "    .dataframe tbody tr th {\n",
              "        vertical-align: top;\n",
              "    }\n",
              "\n",
              "    .dataframe thead th {\n",
              "        text-align: right;\n",
              "    }\n",
              "</style>\n",
              "<table border=\"1\" class=\"dataframe\">\n",
              "  <thead>\n",
              "    <tr style=\"text-align: right;\">\n",
              "      <th></th>\n",
              "      <th>Property Type</th>\n",
              "      <th>OldvNew</th>\n",
              "      <th>Duration</th>\n",
              "      <th>AddressLine1</th>\n",
              "      <th>Town</th>\n",
              "      <th>Taluka</th>\n",
              "      <th>District</th>\n",
              "      <th>Postcode</th>\n",
              "      <th>Price Category</th>\n",
              "      <th>Year</th>\n",
              "    </tr>\n",
              "  </thead>\n",
              "  <tbody>\n",
              "    <tr>\n",
              "      <th>0</th>\n",
              "      <td>1</td>\n",
              "      <td>0</td>\n",
              "      <td>1</td>\n",
              "      <td>5615</td>\n",
              "      <td>144</td>\n",
              "      <td>31</td>\n",
              "      <td>9</td>\n",
              "      <td>78508</td>\n",
              "      <td>1</td>\n",
              "      <td>0</td>\n",
              "    </tr>\n",
              "    <tr>\n",
              "      <th>1</th>\n",
              "      <td>4</td>\n",
              "      <td>1</td>\n",
              "      <td>0</td>\n",
              "      <td>614</td>\n",
              "      <td>602</td>\n",
              "      <td>174</td>\n",
              "      <td>17</td>\n",
              "      <td>346612</td>\n",
              "      <td>0</td>\n",
              "      <td>0</td>\n",
              "    </tr>\n",
              "    <tr>\n",
              "      <th>2</th>\n",
              "      <td>0</td>\n",
              "      <td>0</td>\n",
              "      <td>0</td>\n",
              "      <td>2810</td>\n",
              "      <td>582</td>\n",
              "      <td>171</td>\n",
              "      <td>112</td>\n",
              "      <td>572077</td>\n",
              "      <td>0</td>\n",
              "      <td>0</td>\n",
              "    </tr>\n",
              "    <tr>\n",
              "      <th>3</th>\n",
              "      <td>2</td>\n",
              "      <td>0</td>\n",
              "      <td>0</td>\n",
              "      <td>19</td>\n",
              "      <td>91</td>\n",
              "      <td>28</td>\n",
              "      <td>7</td>\n",
              "      <td>62842</td>\n",
              "      <td>1</td>\n",
              "      <td>0</td>\n",
              "    </tr>\n",
              "    <tr>\n",
              "      <th>4</th>\n",
              "      <td>4</td>\n",
              "      <td>0</td>\n",
              "      <td>0</td>\n",
              "      <td>2065</td>\n",
              "      <td>47</td>\n",
              "      <td>224</td>\n",
              "      <td>72</td>\n",
              "      <td>31006</td>\n",
              "      <td>0</td>\n",
              "      <td>0</td>\n",
              "    </tr>\n",
              "  </tbody>\n",
              "</table>\n",
              "</div>"
            ],
            "text/plain": [
              "   Property Type  OldvNew  Duration  ...  Postcode  Price Category  Year\n",
              "0              1        0         1  ...     78508               1     0\n",
              "1              4        1         0  ...    346612               0     0\n",
              "2              0        0         0  ...    572077               0     0\n",
              "3              2        0         0  ...     62842               1     0\n",
              "4              4        0         0  ...     31006               0     0\n",
              "\n",
              "[5 rows x 10 columns]"
            ]
          },
          "metadata": {
            "tags": []
          },
          "execution_count": 35
        }
      ]
    },
    {
      "cell_type": "code",
      "metadata": {
        "id": "a3RKhRdBQzcT",
        "colab_type": "code",
        "colab": {
          "base_uri": "https://localhost:8080/",
          "height": 658
        },
        "outputId": "413f55be-b4b1-4d8c-a71f-6aef9e9f676b"
      },
      "source": [
        "import numpy as np\n",
        "# We use the numpy fuction log1p which  applies log(1+x) to all elements of the column\n",
        "train_n = train\n",
        "train_n[\"Price\"] = np.log1p(train[\"Price\"])\n",
        "\n",
        "#Check the new distribution \n",
        "sns.distplot(train_n['Price'] , fit=norm);\n",
        "\n",
        "# Get the fitted parameters used by the function\n",
        "(mu, sigma) = norm.fit(train_n['Price'])\n",
        "print( '\\n mu = {:.2f} and sigma = {:.2f}\\n'.format(mu, sigma))\n",
        "plt.legend(['Normal dist. ($\\mu=$ {:.2f} and $\\sigma=$ {:.2f} )'.format(mu, sigma)],\n",
        "            loc='best')\n",
        "plt.ylabel('Frequency')\n",
        "plt.title('Price distribution')\n",
        "\n",
        "fig = plt.figure()\n",
        "res = stats.probplot(train_n['Price'], plot=plt)\n",
        "plt.show()\n",
        "\n",
        "Y = train_n['Price'].values\n",
        "\n",
        "print(\"Skewness: %f\" % train_n['Price'].skew())\n",
        "print(\"Kurtosis: %f\" % train_n['Price'].kurt())"
      ],
      "execution_count": 36,
      "outputs": [
        {
          "output_type": "stream",
          "text": [
            "\n",
            " mu = 5.45 and sigma = 0.74\n",
            "\n"
          ],
          "name": "stdout"
        },
        {
          "output_type": "display_data",
          "data": {
            "image/png": "[encoded data removed]",
            "text/plain": [
              "<Figure size 432x288 with 1 Axes>"
            ]
          },
          "metadata": {
            "tags": []
          }
        },
        {
          "output_type": "display_data",
          "data": {
            "image/png": "[encoded data removed]",
            "text/plain": [
              "<Figure size 432x288 with 1 Axes>"
            ]
          },
          "metadata": {
            "tags": []
          }
        },
        {
          "output_type": "stream",
          "text": [
            "Skewness: 0.510492\n",
            "Kurtosis: 3.280740\n"
          ],
          "name": "stdout"
        }
      ]
    },
    {
      "cell_type": "code",
      "metadata": {
        "id": "FziMweWC1PnN",
        "colab_type": "code",
        "colab": {
          "base_uri": "https://localhost:8080/",
          "height": 51
        },
        "outputId": "925bd11d-5493-49ce-d2a3-0c30dd0b1a73"
      },
      "source": [
        "print(Y)\n",
        "print(np.expm1(Y))"
      ],
      "execution_count": 37,
      "outputs": [
        {
          "output_type": "stream",
          "text": [
            "[4.39444915 5.39135223 5.52545294 ... 6.34873681 6.48155263 6.06898099]\n",
            "[ 80.    218.5   250.    ... 570.77  651.984 431.24 ]\n"
          ],
          "name": "stdout"
        }
      ]
    },
    {
      "cell_type": "markdown",
      "metadata": {
        "id": "Hsy3jge7fbmt",
        "colab_type": "text"
      },
      "source": [
        "We can see that skewness and Kurtosis has improved drastically."
      ]
    },
    {
      "cell_type": "markdown",
      "metadata": {
        "id": "pqcbcs9Wfgl0",
        "colab_type": "text"
      },
      "source": [
        "# Model Selection and Training"
      ]
    },
    {
      "cell_type": "code",
      "metadata": {
        "id": "aR4FIYwmciGN",
        "colab_type": "code",
        "colab": {}
      },
      "source": [
        "from sklearn.linear_model import ElasticNet, Lasso,  BayesianRidge, LassoLarsIC\n",
        "from sklearn.ensemble import RandomForestRegressor,  GradientBoostingRegressor\n",
        "from sklearn.kernel_ridge import KernelRidge\n",
        "from sklearn.pipeline import make_pipeline\n",
        "from sklearn.preprocessing import RobustScaler\n",
        "from sklearn.base import BaseEstimator, TransformerMixin, RegressorMixin, clone\n",
        "from sklearn.model_selection import KFold, cross_val_score, train_test_split\n",
        "from sklearn.metrics import mean_squared_error\n",
        "import xgboost as xgb\n",
        "import lightgbm as lgb"
      ],
      "execution_count": 0,
      "outputs": []
    },
    {
      "cell_type": "markdown",
      "metadata": {
        "id": "w3EnpUVyuQjB",
        "colab_type": "text"
      },
      "source": [
        "Creating a Training, Validation and a test set"
      ]
    },
    {
      "cell_type": "code",
      "metadata": {
        "id": "Mwi_2yIlYLUT",
        "colab_type": "code",
        "colab": {}
      },
      "source": [
        "X_train, X_test, Y_train, Y_test = train_test_split(X.values, Y, test_size = 0.15, random_state = 2)\n",
        "X_train, X_val, Y_train, Y_val = train_test_split(X_train, Y_train, test_size = 0.17, random_state = 2)"
      ],
      "execution_count": 0,
      "outputs": []
    },
    {
      "cell_type": "markdown",
      "metadata": {
        "id": "4hUF6YFRuS0D",
        "colab_type": "text"
      },
      "source": [
        "Trying on two different Regression Models - 1. Random Forest, 2. Lasso "
      ]
    },
    {
      "cell_type": "code",
      "metadata": {
        "id": "KykUUSf5cGxe",
        "colab_type": "code",
        "colab": {
          "base_uri": "https://localhost:8080/",
          "height": 170
        },
        "outputId": "2cfdd373-a4ac-42e3-e0f4-580b29bf8d18"
      },
      "source": [
        "rfr_model = RandomForestRegressor()\n",
        "rfr_model.fit(X_train, Y_train)"
      ],
      "execution_count": 40,
      "outputs": [
        {
          "output_type": "stream",
          "text": [
            "/usr/local/lib/python3.6/dist-packages/sklearn/ensemble/forest.py:245: FutureWarning: The default value of n_estimators will change from 10 in version 0.20 to 100 in 0.22.\n",
            "  \"10 in version 0.20 to 100 in 0.22.\", FutureWarning)\n"
          ],
          "name": "stderr"
        },
        {
          "output_type": "execute_result",
          "data": {
            "text/plain": [
              "RandomForestRegressor(bootstrap=True, criterion='mse', max_depth=None,\n",
              "                      max_features='auto', max_leaf_nodes=None,\n",
              "                      min_impurity_decrease=0.0, min_impurity_split=None,\n",
              "                      min_samples_leaf=1, min_samples_split=2,\n",
              "                      min_weight_fraction_leaf=0.0, n_estimators=10,\n",
              "                      n_jobs=None, oob_score=False, random_state=None,\n",
              "                      verbose=0, warm_start=False)"
            ]
          },
          "metadata": {
            "tags": []
          },
          "execution_count": 40
        }
      ]
    },
    {
      "cell_type": "code",
      "metadata": {
        "id": "sYFKEE2Ec0fn",
        "colab_type": "code",
        "colab": {
          "base_uri": "https://localhost:8080/",
          "height": 34
        },
        "outputId": "a8eaf298-0f69-4931-a151-c6772b76be82"
      },
      "source": [
        "Y_pred = rfr_model.predict(X_val)\n",
        "\n",
        "print(Y_pred)"
      ],
      "execution_count": 41,
      "outputs": [
        {
          "output_type": "stream",
          "text": [
            "[5.01874946 5.11712569 6.54076336 ... 4.10359194 5.81275583 5.53090742]\n"
          ],
          "name": "stdout"
        }
      ]
    },
    {
      "cell_type": "code",
      "metadata": {
        "id": "mMtuCX6YdtB3",
        "colab_type": "code",
        "colab": {}
      },
      "source": [
        "from sklearn.metrics import mean_squared_error\n",
        "\n",
        "mse = mean_squared_error(Y_val, Y_pred)"
      ],
      "execution_count": 0,
      "outputs": []
    },
    {
      "cell_type": "code",
      "metadata": {
        "id": "pZ1lyY_6pPRJ",
        "colab_type": "code",
        "colab": {
          "base_uri": "https://localhost:8080/",
          "height": 34
        },
        "outputId": "75f69c07-4760-4597-eab2-1f61517afe67"
      },
      "source": [
        "mse"
      ],
      "execution_count": 43,
      "outputs": [
        {
          "output_type": "execute_result",
          "data": {
            "text/plain": [
              "0.1885097131123397"
            ]
          },
          "metadata": {
            "tags": []
          },
          "execution_count": 43
        }
      ]
    },
    {
      "cell_type": "code",
      "metadata": {
        "id": "q6QrV3MapQPp",
        "colab_type": "code",
        "colab": {
          "base_uri": "https://localhost:8080/",
          "height": 187
        },
        "outputId": "ae7fee3a-d59a-419b-f52e-f7e433f2a3a9"
      },
      "source": [
        "lasso = make_pipeline(RobustScaler(),Lasso())\n",
        "lasso.fit(X_train, Y_train)"
      ],
      "execution_count": 44,
      "outputs": [
        {
          "output_type": "execute_result",
          "data": {
            "text/plain": [
              "Pipeline(memory=None,\n",
              "         steps=[('robustscaler',\n",
              "                 RobustScaler(copy=True, quantile_range=(25.0, 75.0),\n",
              "                              with_centering=True, with_scaling=True)),\n",
              "                ('lasso',\n",
              "                 Lasso(alpha=1.0, copy_X=True, fit_intercept=True,\n",
              "                       max_iter=1000, normalize=False, positive=False,\n",
              "                       precompute=False, random_state=None, selection='cyclic',\n",
              "                       tol=0.0001, warm_start=False))],\n",
              "         verbose=False)"
            ]
          },
          "metadata": {
            "tags": []
          },
          "execution_count": 44
        }
      ]
    },
    {
      "cell_type": "code",
      "metadata": {
        "id": "E-wtTLQuqEgw",
        "colab_type": "code",
        "colab": {
          "base_uri": "https://localhost:8080/",
          "height": 34
        },
        "outputId": "c617254a-3bed-4050-c49a-79727fbd2be0"
      },
      "source": [
        "Y_pred_l = lasso.predict(X_val)\n",
        "mse_l = mean_squared_error(Y_val, Y_pred_l)\n",
        "print(mse_l)"
      ],
      "execution_count": 45,
      "outputs": [
        {
          "output_type": "stream",
          "text": [
            "0.5511464333894976\n"
          ],
          "name": "stdout"
        }
      ]
    },
    {
      "cell_type": "markdown",
      "metadata": {
        "id": "78UdmBN8rCnA",
        "colab_type": "text"
      },
      "source": [
        "As we can see Random Forest Regression gives us a smaller error, so I'll try adjusting the hyparameters to see if I can better results"
      ]
    },
    {
      "cell_type": "code",
      "metadata": {
        "id": "tiNLbWgSqRzi",
        "colab_type": "code",
        "colab": {
          "base_uri": "https://localhost:8080/",
          "height": 34
        },
        "outputId": "b81932d3-0097-4d21-82b9-fb541650d671"
      },
      "source": [
        "rfr_model = RandomForestRegressor(n_estimators = 20)\n",
        "rfr_model.fit(X_train, Y_train)\n",
        "Y_pred = rfr_model.predict(X_val)\n",
        "mse = mean_squared_error(Y_val, Y_pred)\n",
        "print(mse)"
      ],
      "execution_count": 46,
      "outputs": [
        {
          "output_type": "stream",
          "text": [
            "0.1818801537637879\n"
          ],
          "name": "stdout"
        }
      ]
    },
    {
      "cell_type": "code",
      "metadata": {
        "id": "9fkwb7Wjsl2L",
        "colab_type": "code",
        "colab": {
          "base_uri": "https://localhost:8080/",
          "height": 34
        },
        "outputId": "b84ffd3d-0c52-4bdb-a9b5-e491669495cd"
      },
      "source": [
        "rfr_model = RandomForestRegressor(n_estimators = 25)\n",
        "rfr_model.fit(X_train, Y_train)\n",
        "Y_pred = rfr_model.predict(X_val)\n",
        "mse = mean_squared_error(Y_val, Y_pred)\n",
        "print(mse)"
      ],
      "execution_count": 47,
      "outputs": [
        {
          "output_type": "stream",
          "text": [
            "0.1801702400774683\n"
          ],
          "name": "stdout"
        }
      ]
    },
    {
      "cell_type": "code",
      "metadata": {
        "id": "Wsj0Q8Z_uHdb",
        "colab_type": "code",
        "colab": {
          "base_uri": "https://localhost:8080/",
          "height": 34
        },
        "outputId": "b07053ea-2d2d-4ba7-83d1-d04546424493"
      },
      "source": [
        "Y_test_pred = rfr_model.predict(X_test)\n",
        "mse_t = mean_squared_error(Y_test, Y_test_pred)\n",
        "print(mse_t)"
      ],
      "execution_count": 48,
      "outputs": [
        {
          "output_type": "stream",
          "text": [
            "0.17797955071796198\n"
          ],
          "name": "stdout"
        }
      ]
    },
    {
      "cell_type": "code",
      "metadata": {
        "id": "LACoYnvVvBLJ",
        "colab_type": "code",
        "colab": {
          "base_uri": "https://localhost:8080/",
          "height": 349
        },
        "outputId": "b9453410-43e0-456b-bf5f-d9aa863314f0"
      },
      "source": [
        "test = testing_data\n",
        "sns.heatmap(test.isnull(), cmap = 'Blues')"
      ],
      "execution_count": 49,
      "outputs": [
        {
          "output_type": "execute_result",
          "data": {
            "text/plain": [
              "<matplotlib.axes._subplots.AxesSubplot at 0x7efd7b339978>"
            ]
          },
          "metadata": {
            "tags": []
          },
          "execution_count": 49
        },
        {
          "output_type": "display_data",
          "data": {
            "image/png": "[encoded data removed]",
            "text/plain": [
              "<Figure size 432x288 with 2 Axes>"
            ]
          },
          "metadata": {
            "tags": []
          }
        }
      ]
    },
    {
      "cell_type": "code",
      "metadata": {
        "id": "ftRH_lurvitR",
        "colab_type": "code",
        "colab": {
          "base_uri": "https://localhost:8080/",
          "height": 54
        },
        "outputId": "34c9b279-7cac-4f8a-b213-5c53da3cf70c"
      },
      "source": [
        "test = test.drop(['AddressLine2','Locality', 'TID'], axis = 1)\n",
        "dates = test['Date'].values\n",
        "year_t = []\n",
        "for d in dates:\n",
        "  year_t.append(d[sObject])\n",
        "print(year_t)"
      ],
      "execution_count": 50,
      "outputs": [
        {
          "output_type": "stream",
          "text": [
            "['2019', '2019', '2019', '2019', '2019', '2019', '2019', '2019', '2019', '2019', '2019', '2019', '2019', '2019', '2019', '2019', '2019', '2019', '2019', '2019', '2019', '2019', '2019', '2019', '2019', '2019', '2019', '2019', '2019', '2019', '2019', '2019', '2019', '2019', '2019', '2019', '2019', '2019', '2019', '2019', '2019', '2019', '2019', '2019', '2019', '2019', '2019', '2019', '2019', '2019', '2019', '2019', '2019', '2019', '2019', '2019', '2019', '2019', '2019', '2019', '2019', '2019', '2019', '2019', '2019', '2019', '2019', '2019', '2019', '2019', '2019', '2019', '2019', '2019', '2019', '2019', '2019', '2019', '2019', '2019', '2019', '2019', '2019', '2019', '2019', '2019', '2019', '2019', '2019', '2019', '2019', '2019', '2019', '2019', '2019', '2019', '2019', '2019', '2019', '2019', '2019', '2019', '2019', '2019', '2019', '2019', '2019', '2019', '2019', '2019', '2019', '2019', '2019', '2019', '2019', '2019', '2019', '2019', '2019', '2019', '2019', '2019', '2019', '2019', '2019', '2019', '2019', '2019', '2019', '2019', '2019', '2019', '2019', '2019', '2019', '2019', '2019', '2019', '2019', '2019', '2019', '2019', '2019', '2019', '2019', '2019', '2019', '2019', '2019', '2019', '2019', '2019', '2019', '2019', '2019', '2019', '2019', '2019', '2019', '2019', '2019', '2019', '2019', '2019', '2019', '2019', '2019', '2019', '2019', '2019', '2019', '2019', '2019', '2019', '2019', '2019', '2019', '2019', '2019', '2019', '2019', '2019', '2019', '2019', '2019', '2019', '2019', '2019', '2019', '2019', '2019', '2019', '2019', '2019', '2019', '2019', '2019', '2019', '2019', '2019', '2019', '2019', '2019', '2019', '2019', '2019', '2019', '2019', '2019', '2019', '2019', '2019', '2019', '2019', '2019', '2019', '2019', '2019', '2019', '2019', '2019', '2019', '2019', '2019', '2019', '2019', '2019', '2019', '2019', '2019', '2019', '2019', '2019', '2019', '2019', '2019', '2019', '2019', '2019', '2019', '2019', '2019', '2019', '2019', '2019', '2019', '2019', '2019', '2019', '2019', '2019', '2019', '2019', '2019', '2019', '2019', '2019', '2019', '2019', '2019', '2019', '2019', '2019', '2019', '2019', '2019', '2019', '2019', '2019', '2019', '2019', '2019', '2019', '2019', '2019', '2019', '2019', '2019', '2019', '2019', '2019', '2019', '2019', '2019', '2019', '2019', '2019', '2019', '2019', '2019', '2019', '2019', '2019', '2019', '2019', '2019', '2019', '2019', '2019', '2019', '2019', '2019', '2019', '2019', '2019', '2019', '2019', '2019', '2019', '2019', '2019', '2019', '2019', '2019', '2019', '2019', '2019', '2019', '2019', '2019', '2019', '2019', '2019', '2019', '2019', '2019', '2019', '2019', '2019', '2019', '2019', '2019', '2019', '2019', '2019', '2019', '2019', '2019', '2019', '2019', '2019', '2019', '2019', '2019', '2019', '2019', '2019', '2019', '2019', '2019', '2019', '2019', '2019', '2019', '2019', '2019', '2019', '2019', '2019', '2019', '2019', '2019', '2019', '2019', '2019', '2019', '2019', '2019', '2019', '2019', '2019', '2019', '2019', '2019', '2019', '2019', '2019', '2019', '2019', '2019', '2019', '2019', '2019', '2019', '2019', '2019', '2019', '2019', '2019', '2019', '2019', '2019', '2019', '2019', '2019', '2019', '2019', '2019', '2019', '2019', '2019', '2019', '2019', '2019', '2019', '2019', '2019', '2019', '2019', '2019', '2019', '2019', '2019', '2019', '2019', '2019', '2019', '2019', '2019', '2019', '2019', '2019', '2019', '2019', '2019', '2019', '2019', '2019', '2019', '2019', '2019', '2019', '2019', '2019', '2019', '2019', '2019', '2019', '2019', '2019', '2019', '2019', '2019', '2019', '2019', '2019', '2019', '2019', '2019', '2019', '2019', '2019', '2019', '2019', '2019', '2019', '2019', '2019', '2019', '2019', '2019', '2019', '2019', '2019', '2019', '2019', '2019', '2019', '2019', '2019', '2019', '2019', '2019', '2019', '2019', '2019', '2019', '2019', '2019', '2019', '2019', '2019', '2019', '2019', '2019', '2019', '2019', '2019', '2019', '2019', '2019', '2019', '2019', '2019', '2019', '2019', '2019', '2019', '2019', '2019', '2019', '2019', '2019', '2019', '2019', '2019', '2019', '2019', '2019', '2019', '2019', '2019', '2019', '2019', '2019', '2019', '2019', '2019', '2019', '2019', '2019', '2019', '2019', '2019', '2019', '2019', '2019', '2019', '2019', '2019', '2019', '2019', '2019', '2019', '2019', '2019', '2019', '2019', '2019', '2019', '2019', '2019', '2019', '2019', '2019', '2019', '2019', '2019', '2019', '2019', '2019', '2019', '2019', '2019', '2019', '2019', '2019', '2019', '2019', '2019', '2019', '2019', '2019', '2019', '2019', '2019', '2019', '2019', '2019', '2019', '2019', '2019', '2019', '2019', '2019', '2019', '2019', '2019', '2019', '2019', '2019', '2019', '2019', '2019', '2019', '2019', '2019', '2019', '2019', '2019', '2019', '2019', '2019', '2019', '2019', '2019', '2019', '2019', '2019', '2019', '2019', '2019', '2019', '2019', '2019', '2019', '2019', '2019', '2019', '2019', '2019', '2019', '2019', '2019', '2019', '2019', '2019', '2019', '2019', '2019', '2019', '2019', '2019', '2019', '2019', '2019', '2019', '2019', '2019', '2019', '2019', '2019', '2019', '2019', '2019', '2019', '2019', '2019', '2019', '2019', '2019', '2019', '2019', '2019', '2019', '2019', '2019', '2019', '2019', '2019', '2019', '2019', '2019', '2019', '2019', '2019', '2019', '2019', '2019', '2019', '2019', '2019', '2019', '2019', '2019', '2019', '2019', '2019', '2019', '2019', '2019', '2019', '2019', '2019', '2019', '2019', '2019', '2019', '2019', '2019', '2019', '2019', '2019', '2019', '2019', '2019', '2019', '2019', '2019', '2019', '2019', '2019', '2019', '2019', '2019', '2019', '2019', '2019', '2019', '2019', '2019', '2019', '2019', '2019', '2019', '2019', '2019', '2019', '2019', '2019', '2019', '2019', '2019', '2019', '2019', '2019', '2019', '2019', '2019', '2019', '2019', '2019', '2019', '2019', '2019', '2019', '2019', '2019', '2019', '2019', '2019', '2019', '2019', '2019', '2019', '2019', '2019', '2019', '2019', '2019', '2019', '2019', '2019', '2019', '2019', '2019', '2019', '2019', '2019', '2019', '2019', '2019', '2019', '2019', '2019', '2019', '2019', '2019', '2019', '2019', '2019', '2019', '2019', '2019', '2019', '2019', '2019', '2019', '2019', '2019', '2019', '2019', '2019', '2019', '2019', '2019', '2019', '2019', '2019', '2019', '2019', '2019', '2019', '2019', '2019', '2019', '2019', '2019', '2019', '2019', '2019', '2019', '2019', '2019', '2019', '2019', '2019', '2019', '2019', '2019', '2019', '2019', '2019', '2019', '2019', '2019', '2019', '2019', '2019', '2019', '2019', '2019', '2019', '2019', '2019', '2019', '2019', '2019', '2019', '2019', '2019', '2019', '2019', '2019', '2019', '2019', '2019', '2019', '2019', '2019', '2019', '2019', '2019', '2019', '2019', '2019', '2019', '2019', '2019', '2019', '2019', '2019', '2019', '2019', '2019', '2019', '2019', '2019', '2019', '2019', '2019', '2019', '2019', '2019', '2019', '2019', '2019', '2019', '2019', '2019', '2019', '2019', '2019', '2019', '2019', '2019', '2019', '2019', '2019', '2019', '2019', '2019', '2019', '2019', '2019', '2019', '2019', '2019', '2019', '2019', '2019', '2019', '2019', '2019', '2019', '2019', '2019', '2019', '2019', '2019', '2019', '2019', '2019', '2019', '2019', '2019', '2019', '2019', '2019', '2019', '2019', '2019', '2019', '2019', '2019', '2019', '2019', '2019', '2019', '2019', '2019', '2019', '2019', '2019', '2019', '2019', '2019', '2019', '2019', '2019', '2019', '2019', '2019', '2019', '2019', '2019', '2019', '2019', '2019', '2019', '2019', '2019', '2019', '2019', '2019', '2019', '2019', '2019', '2019', '2019', '2019', '2019', '2019', '2019', '2019', '2019', '2019', '2019', '2019', '2019', '2019', '2019', '2019', '2019', '2019', '2019', '2019', '2019', '2019', '2019', '2019', '2019', '2019', '2019', '2019', '2019', '2019', '2019', '2019', '2019', '2019', '2019', '2019', '2019', '2019', '2019', '2019', '2019', '2019', '2019', '2019', '2019', '2019', '2019', '2019', '2019', '2019', '2019', '2019', '2019', '2019', '2019', '2019', '2019', '2019', '2019', '2019', '2019', '2019', '2019', '2019', '2019', '2019', '2019', '2019', '2019', '2019', '2019', '2019', '2019', '2019', '2019', '2019', '2019', '2019', '2019', '2019', '2019', '2019', '2019', '2019', '2019', '2019', '2019', '2019', '2019', '2019', '2019', '2019', '2019', '2019', '2019', '2019', '2019', '2019', '2019', '2019', '2019', '2019', '2019', '2019', '2019', '2019', '2019', '2019', '2019', '2019', '2019', '2019', '2019', '2019', '2019', '2019', '2019', '2019', '2019', '2019', '2019', '2019', '2019', '2019', '2019', '2019', '2019', '2019', '2019', '2019', '2019', '2019', '2019', '2019', '2019', '2019', '2019', '2019', '2019', '2019', '2019', '2019', '2019', '2019', '2019', '2019', '2019', '2019', '2019', '2019', '2019', '2019', '2019', '2019', '2019', '2019', '2019', '2019', '2019', '2019', '2019', '2019', '2019', '2019', '2019', '2019', '2019', '2019', '2019', '2019', '2019', '2019', '2019', '2019', '2019', '2019', '2019', '2019', '2019', '2019', '2019', '2019', '2019', '2019', '2019', '2019', '2019', '2019', '2019', '2019', '2019', '2019', '2019', '2019', '2019', '2019', '2019', '2019', '2019', '2019', '2019', '2019', '2019', '2019', '2019', '2019', '2019', '2019', '2019', '2019', '2019', '2019', '2019', '2019', '2019', '2019', '2019', '2019', '2019', '2019', '2019', '2019', '2019', '2019', '2019', '2019', '2019', '2019', '2019', '2019', '2019', '2019', '2019', '2019', '2019', '2019', '2019', '2019', '2019', '2019', '2019', '2019', '2019', '2019', '2019', '2019', '2019', '2019', '2019', '2019', '2019', '2019', '2019', '2019', '2019', '2019', '2019', '2019', '2019', '2019', '2019', '2019', '2019', '2019', '2019', '2019', '2019', '2019', '2019', '2019', '2019', '2019', '2019', '2019', '2019', '2019', '2019', '2019', '2019', '2019', '2019', '2019', '2019', '2019', '2019', '2019', '2019', '2019', '2019', '2019', '2019', '2019', '2019', '2019', '2019', '2019', '2019', '2019', '2019', '2019', '2019', '2019', '2019', '2019', '2019', '2019', '2019', '2019', '2019', '2019', '2019', '2019', '2019', '2019', '2019', '2019', '2019', '2019', '2019', '2019', '2019', '2019', '2019', '2019', '2019', '2019', '2019', '2019', '2019', '2019', '2019', '2019', '2019', '2019', '2019', '2019', '2019', '2019', '2019', '2019', '2019', '2019', '2019', '2019', '2019', '2019', '2019', '2019', '2019', '2019', '2019', '2019', '2019', '2019', '2019', '2019', '2019', '2019', '2019', '2019', '2019', '2019', '2019', '2019', '2019', '2019', '2019', '2019', '2019', '2019', '2019', '2019', '2019', '2019', '2019', '2019', '2019', '2019', '2019', '2019', '2019', '2019', '2019', '2019', '2019', '2019', '2019', '2019', '2019', '2019', '2019', '2019', '2019', '2019', '2019', '2019', '2019', '2019', '2019', '2019', '2019', '2019', '2019', '2019', '2019', '2019', '2019', '2019', '2019', '2019', '2019', '2019', '2019', '2019', '2019', '2019', '2019', '2019', '2019', '2019', '2019', '2019', '2019', '2019', '2019', '2019', '2019', '2019', '2019', '2019', '2019', '2019', '2019', '2019', '2019', '2019', '2019', '2019', '2019', '2019', '2019', '2019', '2019', '2019', '2019', '2019', '2019', '2019', '2019', '2019', '2019', '2019', '2019', '2019', '2019', '2019', '2019', '2019', '2019', '2019', '2019', '2019', '2019', '2019', '2019', '2019', '2019', '2019', '2019', '2019', '2019', '2019', '2019', '2019', '2019', '2019', '2019', '2019', '2019', '2019', '2019', '2019', '2019', '2019', '2019', '2019', '2019', '2019', '2019', '2019', '2019', '2019', '2019', '2019', '2019', '2019', '2019', '2019', '2019', '2019', '2019', '2019', '2019', '2019', '2019', '2019', '2019', '2019', '2019', '2019', '2019', '2019', '2019', '2019', '2019', '2019', '2019', '2019', '2019', '2019', '2019', '2019', '2019', '2019', '2019', '2019', '2019', '2019', '2019', '2019', '2019', '2019', '2019', '2019', '2019', '2019', '2019', '2019', '2019', '2019', '2019', '2019', '2019', '2019', '2019', '2019', '2019', '2019', '2019', '2019', '2019', '2019', '2019', '2019', '2019', '2019', '2019', '2019', '2019', '2019', '2019', '2019', '2019', '2019', '2019', '2019', '2019', '2019', '2019', '2019', '2019', '2019', '2019', '2019', '2019', '2019', '2019', '2019', '2019', '2019', '2019', '2019', '2019', '2019', '2019', '2019', '2019', '2019', '2019', '2019', '2019', '2019', '2019', '2019', '2019', '2019', '2019', '2019', '2019', '2019', '2019', '2019', '2019', '2019', '2019', '2019', '2019', '2019', '2019', '2019', '2019', '2019', '2019', '2019', '2019', '2019', '2019', '2019', '2019', '2019', '2019', '2019', '2019', '2019', '2019', '2019', '2019', '2019', '2019', '2019', '2019', '2019', '2019', '2019', '2019', '2019', '2019', '2019', '2019', '2019', '2019', '2019', '2019', '2019', '2019', '2019', '2019', '2019', '2019', '2019', '2019', '2019', '2019', '2019', '2019', '2019', '2019', '2019', '2019', '2019', '2019', '2019', '2019', '2019', '2019', '2019', '2019', '2019', '2019', '2019', '2019', '2019', '2019', '2019', '2019', '2019', '2019', '2019', '2019', '2019', '2019', '2019', '2019', '2019', '2019', '2019', '2019', '2019', '2019', '2019', '2019', '2019', '2019', '2019', '2019', '2019', '2019', '2019', '2019', '2019', '2019', '2019', '2019', '2019', '2019', '2019', '2019', '2019', '2019', '2019', '2019', '2019', '2019', '2019', '2019', '2019', '2019', '2019', '2019', '2019', '2019', '2019', '2019', '2019', '2019', '2019', '2019', '2019', '2019', '2019', '2019', '2019', '2019', '2019', '2019', '2019', '2019', '2019', '2019', '2019', '2019', '2019', '2019', '2019', '2019', '2019', '2019', '2019', '2019', '2019', '2019', '2019', '2019', '2019', '2019', '2019', '2019', '2019', '2019', '2019', '2019', '2019', '2019', '2019', '2019', '2019', '2019', '2019', '2019', '2019', '2019', '2019', '2019', '2019', '2019', '2019', '2019', '2019', '2019', '2019', '2019', '2019', '2019', '2019', '2019', '2019', '2019', '2019', '2019', '2019', '2019', '2019', '2019', '2019', '2019', '2019', '2019', '2019', '2019', '2019', '2019', '2019', '2019', '2019', '2019', '2019', '2019', '2019', '2019', '2019', '2019', '2019', '2019', '2019', '2019', '2019', '2019', '2019', '2019', '2019', '2019', '2019', '2019', '2019', '2019', '2019', '2019', '2019', '2019', '2019', '2019', '2019', '2019', '2019', '2019', '2019', '2019', '2019', '2019', '2019', '2019', '2019', '2019', '2019', '2019', '2019', '2019', '2019', '2019', '2019', '2019', '2019', '2019', '2019', '2019', '2019', '2019', '2019', '2019', '2019', '2019', '2019', '2019', '2019', '2019', '2019', '2019', '2019', '2019', '2019', '2019', '2019', '2019', '2019', '2019', '2019', '2019', '2019', '2019', '2019', '2019', '2019', '2019', '2019', '2019', '2019', '2019', '2019', '2019', '2019', '2019', '2019', '2019', '2019', '2019', '2019', '2019', '2019', '2019', '2019', '2019', '2019', '2019', '2019', '2019', '2019', '2019', '2019', '2019', '2019', '2019', '2019', '2019', '2019', '2019', '2019', '2019', '2019', '2019', '2019', '2019', '2019', '2019', '2019', '2019', '2019', '2019', '2019', '2019', '2019', '2019', '2019', '2019', '2019', '2019', '2019', '2019', '2019', '2019', '2019', '2019', '2019', '2019', '2019', '2019', '2019', '2019', '2019', '2019', '2019', '2019', '2019', '2019', '2019', '2019', '2019', '2019', '2019', '2019', '2019', '2019', '2019', '2019', '2019', '2019', '2019', '2019', '2019', '2019', '2019', '2019', '2019', '2019', '2019', '2019', '2019', '2019', '2019', '2019', '2019', '2019', '2019', '2019', '2019', '2019', '2019', '2019', '2019', '2019', '2019', '2019', '2019', '2019', '2019', '2019', '2019', '2019', '2019', '2019', '2019', '2019', '2019', '2019', '2019', '2019', '2019', '2019', '2019', '2019', '2019', '2019', '2019', '2019', '2019', '2019', '2019', '2019', '2019', '2019', '2019', '2019', '2019', '2019', '2019', '2019', '2019', '2019', '2019', '2019', '2019', '2019', '2019', '2019', '2019', '2019', '2019', '2019', '2019', '2019', '2019', '2019', '2019', '2019', '2019', '2019', '2019', '2019', '2019', '2019', '2019', '2019', '2019', '2019', '2019', '2019', '2019', '2019', '2019', '2019', '2019', '2019', '2019', '2019', '2019', '2019', '2019', '2019', '2019', '2019', '2019', '2019', '2019', '2019', '2019', '2019', '2019', '2019', '2019', '2019', '2019', '2019', '2019', '2019', '2019', '2019', '2019', '2019', '2019', '2019', '2019', '2019', '2019', '2019', '2019', '2019', '2019', '2019', '2019', '2019', '2019', '2019', '2019', '2019', '2019', '2019', '2019', '2019', '2019', '2019', '2019', '2019', '2019', '2019', '2019', '2019', '2019', '2019', '2019', '2019', '2019', '2019', '2019', '2019', '2019', '2019', '2019', '2019', '2019', '2019']\n"
          ],
          "name": "stdout"
        }
      ]
    },
    {
      "cell_type": "code",
      "metadata": {
        "id": "RUDC1s2cwIJ5",
        "colab_type": "code",
        "colab": {
          "base_uri": "https://localhost:8080/",
          "height": 204
        },
        "outputId": "6c4172cd-ac5b-4913-e05e-a5664d41c2d4"
      },
      "source": [
        "test_year_df = pd.DataFrame(data = {\"Year\":year_t})\n",
        "test_year_df.head()"
      ],
      "execution_count": 51,
      "outputs": [
        {
          "output_type": "execute_result",
          "data": {
            "text/html": [
              "<div>\n",
              "<style scoped>\n",
              "    .dataframe tbody tr th:only-of-type {\n",
              "        vertical-align: middle;\n",
              "    }\n",
              "\n",
              "    .dataframe tbody tr th {\n",
              "        vertical-align: top;\n",
              "    }\n",
              "\n",
              "    .dataframe thead th {\n",
              "        text-align: right;\n",
              "    }\n",
              "</style>\n",
              "<table border=\"1\" class=\"dataframe\">\n",
              "  <thead>\n",
              "    <tr style=\"text-align: right;\">\n",
              "      <th></th>\n",
              "      <th>Year</th>\n",
              "    </tr>\n",
              "  </thead>\n",
              "  <tbody>\n",
              "    <tr>\n",
              "      <th>0</th>\n",
              "      <td>2019</td>\n",
              "    </tr>\n",
              "    <tr>\n",
              "      <th>1</th>\n",
              "      <td>2019</td>\n",
              "    </tr>\n",
              "    <tr>\n",
              "      <th>2</th>\n",
              "      <td>2019</td>\n",
              "    </tr>\n",
              "    <tr>\n",
              "      <th>3</th>\n",
              "      <td>2019</td>\n",
              "    </tr>\n",
              "    <tr>\n",
              "      <th>4</th>\n",
              "      <td>2019</td>\n",
              "    </tr>\n",
              "  </tbody>\n",
              "</table>\n",
              "</div>"
            ],
            "text/plain": [
              "   Year\n",
              "0  2019\n",
              "1  2019\n",
              "2  2019\n",
              "3  2019\n",
              "4  2019"
            ]
          },
          "metadata": {
            "tags": []
          },
          "execution_count": 51
        }
      ]
    },
    {
      "cell_type": "code",
      "metadata": {
        "id": "4mxzP9pSwTjR",
        "colab_type": "code",
        "colab": {}
      },
      "source": [
        "test = test.drop(['Date'], axis = 1)"
      ],
      "execution_count": 0,
      "outputs": []
    },
    {
      "cell_type": "code",
      "metadata": {
        "id": "dDDv6r-KwgUQ",
        "colab_type": "code",
        "colab": {}
      },
      "source": [
        "test = pd.concat([test,test_year_df], axis = 1)"
      ],
      "execution_count": 0,
      "outputs": []
    },
    {
      "cell_type": "code",
      "metadata": {
        "id": "JMdz0Ozxwsk5",
        "colab_type": "code",
        "colab": {
          "base_uri": "https://localhost:8080/",
          "height": 289
        },
        "outputId": "4ebc8b94-1ffd-452c-f553-03f23bbdb422"
      },
      "source": [
        "test.head()"
      ],
      "execution_count": 54,
      "outputs": [
        {
          "output_type": "execute_result",
          "data": {
            "text/html": [
              "<div>\n",
              "<style scoped>\n",
              "    .dataframe tbody tr th:only-of-type {\n",
              "        vertical-align: middle;\n",
              "    }\n",
              "\n",
              "    .dataframe tbody tr th {\n",
              "        vertical-align: top;\n",
              "    }\n",
              "\n",
              "    .dataframe thead th {\n",
              "        text-align: right;\n",
              "    }\n",
              "</style>\n",
              "<table border=\"1\" class=\"dataframe\">\n",
              "  <thead>\n",
              "    <tr style=\"text-align: right;\">\n",
              "      <th></th>\n",
              "      <th>Property Type</th>\n",
              "      <th>OldvNew</th>\n",
              "      <th>Duration</th>\n",
              "      <th>AddressLine1</th>\n",
              "      <th>Street</th>\n",
              "      <th>Town</th>\n",
              "      <th>Taluka</th>\n",
              "      <th>District</th>\n",
              "      <th>Postcode</th>\n",
              "      <th>Price Category</th>\n",
              "      <th>Year</th>\n",
              "    </tr>\n",
              "  </thead>\n",
              "  <tbody>\n",
              "    <tr>\n",
              "      <th>0</th>\n",
              "      <td>F</td>\n",
              "      <td>N</td>\n",
              "      <td>L</td>\n",
              "      <td>UXCEBQ SYWKM</td>\n",
              "      <td>ZYHWKL KYUF</td>\n",
              "      <td>NREMYL GBQLBX</td>\n",
              "      <td>SBLMKUE HBFVYKFXORKB</td>\n",
              "      <td>SBLMKUE HBFVYKFXORKB</td>\n",
              "      <td>NG09 2CU</td>\n",
              "      <td>A</td>\n",
              "      <td>2019</td>\n",
              "    </tr>\n",
              "    <tr>\n",
              "      <th>1</th>\n",
              "      <td>S</td>\n",
              "      <td>N</td>\n",
              "      <td>F</td>\n",
              "      <td>XOYMVYKF</td>\n",
              "      <td>XBEXBQ KYUF</td>\n",
              "      <td>SORSOBXMBK</td>\n",
              "      <td>SORSOBXMBK</td>\n",
              "      <td>ZBXM XWXXBA</td>\n",
              "      <td>CY57 9KF</td>\n",
              "      <td>A</td>\n",
              "      <td>2019</td>\n",
              "    </tr>\n",
              "    <tr>\n",
              "      <th>2</th>\n",
              "      <td>F</td>\n",
              "      <td>N</td>\n",
              "      <td>L</td>\n",
              "      <td>JKUSBZBEE SYWKM, 0457</td>\n",
              "      <td>XMKUMVYKF KYUF</td>\n",
              "      <td>HRKNRLJOUN</td>\n",
              "      <td>HRKNRLJOUN</td>\n",
              "      <td>ZBXM NRFEULFX</td>\n",
              "      <td>H52 8BM</td>\n",
              "      <td>A</td>\n",
              "      <td>2019</td>\n",
              "    </tr>\n",
              "    <tr>\n",
              "      <th>3</th>\n",
              "      <td>F</td>\n",
              "      <td>Y</td>\n",
              "      <td>L</td>\n",
              "      <td>MOB SOYSYEUMB DWUKMBK</td>\n",
              "      <td>MKUTBSMWX ZUQ</td>\n",
              "      <td>HKRXMYE</td>\n",
              "      <td>HUMO ULF LYKMO BUXM XYNBKXBM</td>\n",
              "      <td>HUMO ULF LYKMO BUXM XYNBKXBM</td>\n",
              "      <td>HX60 5JJ</td>\n",
              "      <td>A</td>\n",
              "      <td>2019</td>\n",
              "    </tr>\n",
              "    <tr>\n",
              "      <th>4</th>\n",
              "      <td>F</td>\n",
              "      <td>N</td>\n",
              "      <td>L</td>\n",
              "      <td>NUGBCBUSB NULXRYLX</td>\n",
              "      <td>NUGBCBUSB UPBLWB</td>\n",
              "      <td>EYLFYL</td>\n",
              "      <td>SUNFBL</td>\n",
              "      <td>JKBUMBK EYLFYL</td>\n",
              "      <td>L3 3BM</td>\n",
              "      <td>A</td>\n",
              "      <td>2019</td>\n",
              "    </tr>\n",
              "  </tbody>\n",
              "</table>\n",
              "</div>"
            ],
            "text/plain": [
              "  Property Type OldvNew Duration  ...  Postcode Price Category  Year\n",
              "0             F       N        L  ...  NG09 2CU              A  2019\n",
              "1             S       N        F  ...  CY57 9KF              A  2019\n",
              "2             F       N        L  ...   H52 8BM              A  2019\n",
              "3             F       Y        L  ...  HX60 5JJ              A  2019\n",
              "4             F       N        L  ...    L3 3BM              A  2019\n",
              "\n",
              "[5 rows x 11 columns]"
            ]
          },
          "metadata": {
            "tags": []
          },
          "execution_count": 54
        }
      ]
    },
    {
      "cell_type": "code",
      "metadata": {
        "id": "GflAFrEBwuDZ",
        "colab_type": "code",
        "colab": {
          "base_uri": "https://localhost:8080/",
          "height": 204
        },
        "outputId": "0cdfb620-3a08-4d43-d46c-6a495dd52b56"
      },
      "source": [
        "test = test.drop([\"Street\"], axis = 1)\n",
        "cols = test.columns.tolist()\n",
        "for c in cols:\n",
        "  l_enc = LabelEncoder()\n",
        "  l_enc.fit(list(test[c].values)) \n",
        "  test[c] = l_enc.transform(list(test[c].values))\n",
        "\n",
        "test['Year'] = 1 \n",
        "test.head()"
      ],
      "execution_count": 55,
      "outputs": [
        {
          "output_type": "execute_result",
          "data": {
            "text/html": [
              "<div>\n",
              "<style scoped>\n",
              "    .dataframe tbody tr th:only-of-type {\n",
              "        vertical-align: middle;\n",
              "    }\n",
              "\n",
              "    .dataframe tbody tr th {\n",
              "        vertical-align: top;\n",
              "    }\n",
              "\n",
              "    .dataframe thead th {\n",
              "        text-align: right;\n",
              "    }\n",
              "</style>\n",
              "<table border=\"1\" class=\"dataframe\">\n",
              "  <thead>\n",
              "    <tr style=\"text-align: right;\">\n",
              "      <th></th>\n",
              "      <th>Property Type</th>\n",
              "      <th>OldvNew</th>\n",
              "      <th>Duration</th>\n",
              "      <th>AddressLine1</th>\n",
              "      <th>Town</th>\n",
              "      <th>Taluka</th>\n",
              "      <th>District</th>\n",
              "      <th>Postcode</th>\n",
              "      <th>Price Category</th>\n",
              "      <th>Year</th>\n",
              "    </tr>\n",
              "  </thead>\n",
              "  <tbody>\n",
              "    <tr>\n",
              "      <th>0</th>\n",
              "      <td>1</td>\n",
              "      <td>0</td>\n",
              "      <td>1</td>\n",
              "      <td>1197</td>\n",
              "      <td>194</td>\n",
              "      <td>176</td>\n",
              "      <td>60</td>\n",
              "      <td>1136</td>\n",
              "      <td>0</td>\n",
              "      <td>1</td>\n",
              "    </tr>\n",
              "    <tr>\n",
              "      <th>1</th>\n",
              "      <td>3</td>\n",
              "      <td>0</td>\n",
              "      <td>0</td>\n",
              "      <td>1351</td>\n",
              "      <td>273</td>\n",
              "      <td>186</td>\n",
              "      <td>95</td>\n",
              "      <td>167</td>\n",
              "      <td>0</td>\n",
              "      <td>1</td>\n",
              "    </tr>\n",
              "    <tr>\n",
              "      <th>2</th>\n",
              "      <td>1</td>\n",
              "      <td>0</td>\n",
              "      <td>1</td>\n",
              "      <td>528</td>\n",
              "      <td>97</td>\n",
              "      <td>60</td>\n",
              "      <td>93</td>\n",
              "      <td>439</td>\n",
              "      <td>0</td>\n",
              "      <td>1</td>\n",
              "    </tr>\n",
              "    <tr>\n",
              "      <th>3</th>\n",
              "      <td>1</td>\n",
              "      <td>1</td>\n",
              "      <td>1</td>\n",
              "      <td>715</td>\n",
              "      <td>87</td>\n",
              "      <td>66</td>\n",
              "      <td>22</td>\n",
              "      <td>716</td>\n",
              "      <td>0</td>\n",
              "      <td>1</td>\n",
              "    </tr>\n",
              "    <tr>\n",
              "      <th>4</th>\n",
              "      <td>1</td>\n",
              "      <td>0</td>\n",
              "      <td>1</td>\n",
              "      <td>845</td>\n",
              "      <td>44</td>\n",
              "      <td>202</td>\n",
              "      <td>26</td>\n",
              "      <td>855</td>\n",
              "      <td>0</td>\n",
              "      <td>1</td>\n",
              "    </tr>\n",
              "  </tbody>\n",
              "</table>\n",
              "</div>"
            ],
            "text/plain": [
              "   Property Type  OldvNew  Duration  ...  Postcode  Price Category  Year\n",
              "0              1        0         1  ...      1136               0     1\n",
              "1              3        0         0  ...       167               0     1\n",
              "2              1        0         1  ...       439               0     1\n",
              "3              1        1         1  ...       716               0     1\n",
              "4              1        0         1  ...       855               0     1\n",
              "\n",
              "[5 rows x 10 columns]"
            ]
          },
          "metadata": {
            "tags": []
          },
          "execution_count": 55
        }
      ]
    },
    {
      "cell_type": "code",
      "metadata": {
        "id": "3izuVA2KxQ4i",
        "colab_type": "code",
        "colab": {}
      },
      "source": [
        "Y_test_final = rfr_model.predict(test)"
      ],
      "execution_count": 0,
      "outputs": []
    },
    {
      "cell_type": "code",
      "metadata": {
        "id": "VNu6QGOtx3NH",
        "colab_type": "code",
        "colab": {
          "base_uri": "https://localhost:8080/",
          "height": 51
        },
        "outputId": "42fb879b-78ee-4e95-dc09-0bc3cfec9014"
      },
      "source": [
        "Y_test_final"
      ],
      "execution_count": 57,
      "outputs": [
        {
          "output_type": "execute_result",
          "data": {
            "text/plain": [
              "array([4.51751406, 5.42900448, 5.05946093, ..., 6.44336175, 5.72411607,\n",
              "       5.72411607])"
            ]
          },
          "metadata": {
            "tags": []
          },
          "execution_count": 57
        }
      ]
    },
    {
      "cell_type": "code",
      "metadata": {
        "id": "6PhbSIEcyRNi",
        "colab_type": "code",
        "colab": {}
      },
      "source": [
        "Y_test_final = np.expm1(Y_test_final)"
      ],
      "execution_count": 0,
      "outputs": []
    },
    {
      "cell_type": "code",
      "metadata": {
        "id": "z_Abgenqy3TD",
        "colab_type": "code",
        "colab": {
          "base_uri": "https://localhost:8080/",
          "height": 51
        },
        "outputId": "14fcda73-863c-4f47-ab37-568b0194620a"
      },
      "source": [
        "Y_test_final"
      ],
      "execution_count": 59,
      "outputs": [
        {
          "output_type": "execute_result",
          "data": {
            "text/plain": [
              "array([ 90.60758332, 226.9222319 , 156.50558657, ..., 627.5161674 ,\n",
              "       305.16252013, 305.16252013])"
            ]
          },
          "metadata": {
            "tags": []
          },
          "execution_count": 59
        }
      ]
    },
    {
      "cell_type": "code",
      "metadata": {
        "id": "YRXaqqbMy5PT",
        "colab_type": "code",
        "colab": {}
      },
      "source": [
        "Price_df = pd.DataFrame(data = {'Price Predicted' : Y_test_final})\n",
        "Price_df.to_csv(\"Submission.csv\")"
      ],
      "execution_count": 0,
      "outputs": []
    },
    {
      "cell_type": "markdown",
      "metadata": {
        "id": "SJZadsWX5dTW",
        "colab_type": "text"
      },
      "source": [
        "Downloaded the submission file and then hosted on a file hosting server to pull the outputs in the code"
      ]
    },
    {
      "cell_type": "code",
      "metadata": {
        "id": "1PUsnBenzt5-",
        "colab_type": "code",
        "colab": {}
      },
      "source": [
        "csv_test = \"https://sendeyo.com/up/d/88b21414cd\"\n",
        "df_test = pd.read_csv(csv_test)"
      ],
      "execution_count": 0,
      "outputs": []
    }
  ]
}